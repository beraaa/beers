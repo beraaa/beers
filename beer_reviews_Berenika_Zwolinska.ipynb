{
  "nbformat": 4,
  "nbformat_minor": 0,
  "metadata": {
    "colab": {
      "provenance": [],
      "toc_visible": true
    },
    "kernelspec": {
      "name": "python3",
      "display_name": "Python 3"
    },
    "language_info": {
      "name": "python"
    }
  },
  "cells": [
    {
      "cell_type": "markdown",
      "source": [
        "Could you provide an answer for the following questions:\n",
        "- Which brewery produces the strongest beers by abv ?\n",
        "- If you had to pick 3 beers to recommend to someone, how would you approach the problem ?\n",
        "- What are the factors that impacts the quality of beer the most ?\n",
        "- I enjoy a beer which aroma and appearance matches the beer style. What beer should I buy ?\n"
      ],
      "metadata": {
        "id": "Ky3egX3a9EOz"
      }
    },
    {
      "cell_type": "code",
      "execution_count": null,
      "metadata": {
        "id": "rmOKifzv-uNF"
      },
      "outputs": [],
      "source": [
        "import pandas as pd\n",
        "import numpy as np\n",
        "from sklearn.linear_model import LinearRegression\n",
        "import seaborn as sns\n",
        "import plotly.express as px"
      ]
    },
    {
      "cell_type": "code",
      "source": [
        "df = pd.read_csv('beer_reviews.csv')"
      ],
      "metadata": {
        "id": "z9fDl95z8jbU"
      },
      "execution_count": null,
      "outputs": []
    },
    {
      "cell_type": "code",
      "source": [
        "df.head()"
      ],
      "metadata": {
        "id": "hIT8fu9w8rc6"
      },
      "execution_count": null,
      "outputs": []
    },
    {
      "cell_type": "code",
      "source": [
        "df.describe()"
      ],
      "metadata": {
        "id": "cecGuFHxGBZI"
      },
      "execution_count": null,
      "outputs": []
    },
    {
      "cell_type": "code",
      "source": [
        "df.isna().sum()"
      ],
      "metadata": {
        "id": "-P4ESdtaJ8Q4"
      },
      "execution_count": null,
      "outputs": []
    },
    {
      "cell_type": "code",
      "source": [
        "df.groupby(['brewery_name']).mean('beer_abv').sort_values(by=['beer_abv'], ascending=False).head(3)"
      ],
      "metadata": {
        "colab": {
          "base_uri": "https://localhost:8080/",
          "height": 175
        },
        "id": "eAlSwN4M8-KY",
        "outputId": "36c693f0-21f6-4bbf-e16d-37fea110396d"
      },
      "execution_count": 187,
      "outputs": [
        {
          "output_type": "execute_result",
          "data": {
            "text/plain": [
              "                   brewery_id   review_time  review_overall  review_aroma  \\\n",
              "brewery_name                                                                \n",
              "Schorschbräu           6513.0  1.219645e+09        3.411765      3.529412   \n",
              "Shoes Brewery         14060.0  1.220522e+09        3.000000      3.000000   \n",
              "Hurlimann Brewery       736.0  1.059959e+09        3.815789      4.342105   \n",
              "\n",
              "                   review_appearance  review_palate  review_taste   beer_abv  \\\n",
              "brewery_name                                                                   \n",
              "Schorschbräu                3.558824       3.470588      3.514706  19.228824   \n",
              "Shoes Brewery               3.750000       3.500000      3.250000  15.200000   \n",
              "Hurlimann Brewery           3.947368       4.131579      4.236842  13.396968   \n",
              "\n",
              "                    beer_beerid  \n",
              "brewery_name                     \n",
              "Schorschbräu       34235.676471  \n",
              "Shoes Brewery      32949.000000  \n",
              "Hurlimann Brewery   4341.631579  "
            ],
            "text/html": [
              "\n",
              "  <div id=\"df-1521ec40-6ed7-4ad9-86a1-3e55d8105ba4\">\n",
              "    <div class=\"colab-df-container\">\n",
              "      <div>\n",
              "<style scoped>\n",
              "    .dataframe tbody tr th:only-of-type {\n",
              "        vertical-align: middle;\n",
              "    }\n",
              "\n",
              "    .dataframe tbody tr th {\n",
              "        vertical-align: top;\n",
              "    }\n",
              "\n",
              "    .dataframe thead th {\n",
              "        text-align: right;\n",
              "    }\n",
              "</style>\n",
              "<table border=\"1\" class=\"dataframe\">\n",
              "  <thead>\n",
              "    <tr style=\"text-align: right;\">\n",
              "      <th></th>\n",
              "      <th>brewery_id</th>\n",
              "      <th>review_time</th>\n",
              "      <th>review_overall</th>\n",
              "      <th>review_aroma</th>\n",
              "      <th>review_appearance</th>\n",
              "      <th>review_palate</th>\n",
              "      <th>review_taste</th>\n",
              "      <th>beer_abv</th>\n",
              "      <th>beer_beerid</th>\n",
              "    </tr>\n",
              "    <tr>\n",
              "      <th>brewery_name</th>\n",
              "      <th></th>\n",
              "      <th></th>\n",
              "      <th></th>\n",
              "      <th></th>\n",
              "      <th></th>\n",
              "      <th></th>\n",
              "      <th></th>\n",
              "      <th></th>\n",
              "      <th></th>\n",
              "    </tr>\n",
              "  </thead>\n",
              "  <tbody>\n",
              "    <tr>\n",
              "      <th>Schorschbräu</th>\n",
              "      <td>6513.0</td>\n",
              "      <td>1.219645e+09</td>\n",
              "      <td>3.411765</td>\n",
              "      <td>3.529412</td>\n",
              "      <td>3.558824</td>\n",
              "      <td>3.470588</td>\n",
              "      <td>3.514706</td>\n",
              "      <td>19.228824</td>\n",
              "      <td>34235.676471</td>\n",
              "    </tr>\n",
              "    <tr>\n",
              "      <th>Shoes Brewery</th>\n",
              "      <td>14060.0</td>\n",
              "      <td>1.220522e+09</td>\n",
              "      <td>3.000000</td>\n",
              "      <td>3.000000</td>\n",
              "      <td>3.750000</td>\n",
              "      <td>3.500000</td>\n",
              "      <td>3.250000</td>\n",
              "      <td>15.200000</td>\n",
              "      <td>32949.000000</td>\n",
              "    </tr>\n",
              "    <tr>\n",
              "      <th>Hurlimann Brewery</th>\n",
              "      <td>736.0</td>\n",
              "      <td>1.059959e+09</td>\n",
              "      <td>3.815789</td>\n",
              "      <td>4.342105</td>\n",
              "      <td>3.947368</td>\n",
              "      <td>4.131579</td>\n",
              "      <td>4.236842</td>\n",
              "      <td>13.396968</td>\n",
              "      <td>4341.631579</td>\n",
              "    </tr>\n",
              "  </tbody>\n",
              "</table>\n",
              "</div>\n",
              "      <button class=\"colab-df-convert\" onclick=\"convertToInteractive('df-1521ec40-6ed7-4ad9-86a1-3e55d8105ba4')\"\n",
              "              title=\"Convert this dataframe to an interactive table.\"\n",
              "              style=\"display:none;\">\n",
              "        \n",
              "  <svg xmlns=\"http://www.w3.org/2000/svg\" height=\"24px\"viewBox=\"0 0 24 24\"\n",
              "       width=\"24px\">\n",
              "    <path d=\"M0 0h24v24H0V0z\" fill=\"none\"/>\n",
              "    <path d=\"M18.56 5.44l.94 2.06.94-2.06 2.06-.94-2.06-.94-.94-2.06-.94 2.06-2.06.94zm-11 1L8.5 8.5l.94-2.06 2.06-.94-2.06-.94L8.5 2.5l-.94 2.06-2.06.94zm10 10l.94 2.06.94-2.06 2.06-.94-2.06-.94-.94-2.06-.94 2.06-2.06.94z\"/><path d=\"M17.41 7.96l-1.37-1.37c-.4-.4-.92-.59-1.43-.59-.52 0-1.04.2-1.43.59L10.3 9.45l-7.72 7.72c-.78.78-.78 2.05 0 2.83L4 21.41c.39.39.9.59 1.41.59.51 0 1.02-.2 1.41-.59l7.78-7.78 2.81-2.81c.8-.78.8-2.07 0-2.86zM5.41 20L4 18.59l7.72-7.72 1.47 1.35L5.41 20z\"/>\n",
              "  </svg>\n",
              "      </button>\n",
              "      \n",
              "  <style>\n",
              "    .colab-df-container {\n",
              "      display:flex;\n",
              "      flex-wrap:wrap;\n",
              "      gap: 12px;\n",
              "    }\n",
              "\n",
              "    .colab-df-convert {\n",
              "      background-color: #E8F0FE;\n",
              "      border: none;\n",
              "      border-radius: 50%;\n",
              "      cursor: pointer;\n",
              "      display: none;\n",
              "      fill: #1967D2;\n",
              "      height: 32px;\n",
              "      padding: 0 0 0 0;\n",
              "      width: 32px;\n",
              "    }\n",
              "\n",
              "    .colab-df-convert:hover {\n",
              "      background-color: #E2EBFA;\n",
              "      box-shadow: 0px 1px 2px rgba(60, 64, 67, 0.3), 0px 1px 3px 1px rgba(60, 64, 67, 0.15);\n",
              "      fill: #174EA6;\n",
              "    }\n",
              "\n",
              "    [theme=dark] .colab-df-convert {\n",
              "      background-color: #3B4455;\n",
              "      fill: #D2E3FC;\n",
              "    }\n",
              "\n",
              "    [theme=dark] .colab-df-convert:hover {\n",
              "      background-color: #434B5C;\n",
              "      box-shadow: 0px 1px 3px 1px rgba(0, 0, 0, 0.15);\n",
              "      filter: drop-shadow(0px 1px 2px rgba(0, 0, 0, 0.3));\n",
              "      fill: #FFFFFF;\n",
              "    }\n",
              "  </style>\n",
              "\n",
              "      <script>\n",
              "        const buttonEl =\n",
              "          document.querySelector('#df-1521ec40-6ed7-4ad9-86a1-3e55d8105ba4 button.colab-df-convert');\n",
              "        buttonEl.style.display =\n",
              "          google.colab.kernel.accessAllowed ? 'block' : 'none';\n",
              "\n",
              "        async function convertToInteractive(key) {\n",
              "          const element = document.querySelector('#df-1521ec40-6ed7-4ad9-86a1-3e55d8105ba4');\n",
              "          const dataTable =\n",
              "            await google.colab.kernel.invokeFunction('convertToInteractive',\n",
              "                                                     [key], {});\n",
              "          if (!dataTable) return;\n",
              "\n",
              "          const docLinkHtml = 'Like what you see? Visit the ' +\n",
              "            '<a target=\"_blank\" href=https://colab.research.google.com/notebooks/data_table.ipynb>data table notebook</a>'\n",
              "            + ' to learn more about interactive tables.';\n",
              "          element.innerHTML = '';\n",
              "          dataTable['output_type'] = 'display_data';\n",
              "          await google.colab.output.renderOutput(dataTable, element);\n",
              "          const docLink = document.createElement('div');\n",
              "          docLink.innerHTML = docLinkHtml;\n",
              "          element.appendChild(docLink);\n",
              "        }\n",
              "      </script>\n",
              "    </div>\n",
              "  </div>\n",
              "  "
            ]
          },
          "metadata": {},
          "execution_count": 187
        }
      ]
    },
    {
      "cell_type": "markdown",
      "source": [
        "**1) Which brewery produces the strongest beers by abv ?**\n",
        "\n",
        "-> Schorschbräu"
      ],
      "metadata": {
        "id": "kNDH4-Mj-24s"
      }
    },
    {
      "cell_type": "code",
      "source": [
        "df_grouped = df.groupby(['beer_style','beer_name']).agg({'review_overall' : ['count','mean']}).sort_values(by=[('review_overall','mean'),('review_overall','count')], ascending=False)\n",
        "df_filtered = df_grouped[df_grouped[('review_overall','count')] > 100]"
      ],
      "metadata": {
        "id": "TXWHItJJHn7_"
      },
      "execution_count": null,
      "outputs": []
    },
    {
      "cell_type": "code",
      "source": [
        "df_filtered"
      ],
      "metadata": {
        "colab": {
          "base_uri": "https://localhost:8080/",
          "height": 486
        },
        "id": "PAnGkTsqBx1m",
        "outputId": "d32f33de-f090-4ecf-9394-9d4913cda79f"
      },
      "execution_count": null,
      "outputs": [
        {
          "output_type": "execute_result",
          "data": {
            "text/plain": [
              "                                                                                  review_overall  \\\n",
              "                                                                                           count   \n",
              "beer_style                     beer_name                                                           \n",
              "American Double / Imperial IPA Citra DIPA                                                    252   \n",
              "Lambic - Fruit                 Cantillon Blåbær Lambik                                       156   \n",
              "American Double / Imperial IPA Heady Topper                                                  469   \n",
              "American Wild Ale              Deviation - Bottleworks 9th Anniversary                       112   \n",
              "Quadrupel (Quad)               Trappist Westvleteren 12                                     1272   \n",
              "...                                                                                          ...   \n",
              "Fruit / Vegetable Beer         Budweiser Chelada                                             138   \n",
              "                               Wild Blue (Blueberry Lager)                                   482   \n",
              "                               Bud Light Chelada                                             114   \n",
              "Chile Beer                     Original C Cave Creek Chili Beer - Cerveza Con ...            132   \n",
              "                               Crazy Ed's Cave Creek Chili Beer                              267   \n",
              "\n",
              "                                                                                             \n",
              "                                                                                       mean  \n",
              "beer_style                     beer_name                                                     \n",
              "American Double / Imperial IPA Citra DIPA                                          4.630952  \n",
              "Lambic - Fruit                 Cantillon Blåbær Lambik                             4.628205  \n",
              "American Double / Imperial IPA Heady Topper                                        4.625800  \n",
              "American Wild Ale              Deviation - Bottleworks 9th Anniversary             4.620536  \n",
              "Quadrupel (Quad)               Trappist Westvleteren 12                            4.617925  \n",
              "...                                                                                     ...  \n",
              "Fruit / Vegetable Beer         Budweiser Chelada                                   1.931159  \n",
              "                               Wild Blue (Blueberry Lager)                         1.924274  \n",
              "                               Bud Light Chelada                                   1.710526  \n",
              "Chile Beer                     Original C Cave Creek Chili Beer - Cerveza Con ...  1.681818  \n",
              "                               Crazy Ed's Cave Creek Chili Beer                    1.488764  \n",
              "\n",
              "[3109 rows x 2 columns]"
            ],
            "text/html": [
              "\n",
              "  <div id=\"df-babcde9d-b669-4a46-9f57-87d0dd1203b0\">\n",
              "    <div class=\"colab-df-container\">\n",
              "      <div>\n",
              "<style scoped>\n",
              "    .dataframe tbody tr th:only-of-type {\n",
              "        vertical-align: middle;\n",
              "    }\n",
              "\n",
              "    .dataframe tbody tr th {\n",
              "        vertical-align: top;\n",
              "    }\n",
              "\n",
              "    .dataframe thead tr th {\n",
              "        text-align: left;\n",
              "    }\n",
              "\n",
              "    .dataframe thead tr:last-of-type th {\n",
              "        text-align: right;\n",
              "    }\n",
              "</style>\n",
              "<table border=\"1\" class=\"dataframe\">\n",
              "  <thead>\n",
              "    <tr>\n",
              "      <th></th>\n",
              "      <th></th>\n",
              "      <th colspan=\"2\" halign=\"left\">review_overall</th>\n",
              "    </tr>\n",
              "    <tr>\n",
              "      <th></th>\n",
              "      <th></th>\n",
              "      <th>count</th>\n",
              "      <th>mean</th>\n",
              "    </tr>\n",
              "    <tr>\n",
              "      <th>beer_style</th>\n",
              "      <th>beer_name</th>\n",
              "      <th></th>\n",
              "      <th></th>\n",
              "    </tr>\n",
              "  </thead>\n",
              "  <tbody>\n",
              "    <tr>\n",
              "      <th>American Double / Imperial IPA</th>\n",
              "      <th>Citra DIPA</th>\n",
              "      <td>252</td>\n",
              "      <td>4.630952</td>\n",
              "    </tr>\n",
              "    <tr>\n",
              "      <th>Lambic - Fruit</th>\n",
              "      <th>Cantillon Blåbær Lambik</th>\n",
              "      <td>156</td>\n",
              "      <td>4.628205</td>\n",
              "    </tr>\n",
              "    <tr>\n",
              "      <th>American Double / Imperial IPA</th>\n",
              "      <th>Heady Topper</th>\n",
              "      <td>469</td>\n",
              "      <td>4.625800</td>\n",
              "    </tr>\n",
              "    <tr>\n",
              "      <th>American Wild Ale</th>\n",
              "      <th>Deviation - Bottleworks 9th Anniversary</th>\n",
              "      <td>112</td>\n",
              "      <td>4.620536</td>\n",
              "    </tr>\n",
              "    <tr>\n",
              "      <th>Quadrupel (Quad)</th>\n",
              "      <th>Trappist Westvleteren 12</th>\n",
              "      <td>1272</td>\n",
              "      <td>4.617925</td>\n",
              "    </tr>\n",
              "    <tr>\n",
              "      <th>...</th>\n",
              "      <th>...</th>\n",
              "      <td>...</td>\n",
              "      <td>...</td>\n",
              "    </tr>\n",
              "    <tr>\n",
              "      <th rowspan=\"3\" valign=\"top\">Fruit / Vegetable Beer</th>\n",
              "      <th>Budweiser Chelada</th>\n",
              "      <td>138</td>\n",
              "      <td>1.931159</td>\n",
              "    </tr>\n",
              "    <tr>\n",
              "      <th>Wild Blue (Blueberry Lager)</th>\n",
              "      <td>482</td>\n",
              "      <td>1.924274</td>\n",
              "    </tr>\n",
              "    <tr>\n",
              "      <th>Bud Light Chelada</th>\n",
              "      <td>114</td>\n",
              "      <td>1.710526</td>\n",
              "    </tr>\n",
              "    <tr>\n",
              "      <th rowspan=\"2\" valign=\"top\">Chile Beer</th>\n",
              "      <th>Original C Cave Creek Chili Beer - Cerveza Con Chili</th>\n",
              "      <td>132</td>\n",
              "      <td>1.681818</td>\n",
              "    </tr>\n",
              "    <tr>\n",
              "      <th>Crazy Ed's Cave Creek Chili Beer</th>\n",
              "      <td>267</td>\n",
              "      <td>1.488764</td>\n",
              "    </tr>\n",
              "  </tbody>\n",
              "</table>\n",
              "<p>3109 rows × 2 columns</p>\n",
              "</div>\n",
              "      <button class=\"colab-df-convert\" onclick=\"convertToInteractive('df-babcde9d-b669-4a46-9f57-87d0dd1203b0')\"\n",
              "              title=\"Convert this dataframe to an interactive table.\"\n",
              "              style=\"display:none;\">\n",
              "        \n",
              "  <svg xmlns=\"http://www.w3.org/2000/svg\" height=\"24px\"viewBox=\"0 0 24 24\"\n",
              "       width=\"24px\">\n",
              "    <path d=\"M0 0h24v24H0V0z\" fill=\"none\"/>\n",
              "    <path d=\"M18.56 5.44l.94 2.06.94-2.06 2.06-.94-2.06-.94-.94-2.06-.94 2.06-2.06.94zm-11 1L8.5 8.5l.94-2.06 2.06-.94-2.06-.94L8.5 2.5l-.94 2.06-2.06.94zm10 10l.94 2.06.94-2.06 2.06-.94-2.06-.94-.94-2.06-.94 2.06-2.06.94z\"/><path d=\"M17.41 7.96l-1.37-1.37c-.4-.4-.92-.59-1.43-.59-.52 0-1.04.2-1.43.59L10.3 9.45l-7.72 7.72c-.78.78-.78 2.05 0 2.83L4 21.41c.39.39.9.59 1.41.59.51 0 1.02-.2 1.41-.59l7.78-7.78 2.81-2.81c.8-.78.8-2.07 0-2.86zM5.41 20L4 18.59l7.72-7.72 1.47 1.35L5.41 20z\"/>\n",
              "  </svg>\n",
              "      </button>\n",
              "      \n",
              "  <style>\n",
              "    .colab-df-container {\n",
              "      display:flex;\n",
              "      flex-wrap:wrap;\n",
              "      gap: 12px;\n",
              "    }\n",
              "\n",
              "    .colab-df-convert {\n",
              "      background-color: #E8F0FE;\n",
              "      border: none;\n",
              "      border-radius: 50%;\n",
              "      cursor: pointer;\n",
              "      display: none;\n",
              "      fill: #1967D2;\n",
              "      height: 32px;\n",
              "      padding: 0 0 0 0;\n",
              "      width: 32px;\n",
              "    }\n",
              "\n",
              "    .colab-df-convert:hover {\n",
              "      background-color: #E2EBFA;\n",
              "      box-shadow: 0px 1px 2px rgba(60, 64, 67, 0.3), 0px 1px 3px 1px rgba(60, 64, 67, 0.15);\n",
              "      fill: #174EA6;\n",
              "    }\n",
              "\n",
              "    [theme=dark] .colab-df-convert {\n",
              "      background-color: #3B4455;\n",
              "      fill: #D2E3FC;\n",
              "    }\n",
              "\n",
              "    [theme=dark] .colab-df-convert:hover {\n",
              "      background-color: #434B5C;\n",
              "      box-shadow: 0px 1px 3px 1px rgba(0, 0, 0, 0.15);\n",
              "      filter: drop-shadow(0px 1px 2px rgba(0, 0, 0, 0.3));\n",
              "      fill: #FFFFFF;\n",
              "    }\n",
              "  </style>\n",
              "\n",
              "      <script>\n",
              "        const buttonEl =\n",
              "          document.querySelector('#df-babcde9d-b669-4a46-9f57-87d0dd1203b0 button.colab-df-convert');\n",
              "        buttonEl.style.display =\n",
              "          google.colab.kernel.accessAllowed ? 'block' : 'none';\n",
              "\n",
              "        async function convertToInteractive(key) {\n",
              "          const element = document.querySelector('#df-babcde9d-b669-4a46-9f57-87d0dd1203b0');\n",
              "          const dataTable =\n",
              "            await google.colab.kernel.invokeFunction('convertToInteractive',\n",
              "                                                     [key], {});\n",
              "          if (!dataTable) return;\n",
              "\n",
              "          const docLinkHtml = 'Like what you see? Visit the ' +\n",
              "            '<a target=\"_blank\" href=https://colab.research.google.com/notebooks/data_table.ipynb>data table notebook</a>'\n",
              "            + ' to learn more about interactive tables.';\n",
              "          element.innerHTML = '';\n",
              "          dataTable['output_type'] = 'display_data';\n",
              "          await google.colab.output.renderOutput(dataTable, element);\n",
              "          const docLink = document.createElement('div');\n",
              "          docLink.innerHTML = docLinkHtml;\n",
              "          element.appendChild(docLink);\n",
              "        }\n",
              "      </script>\n",
              "    </div>\n",
              "  </div>\n",
              "  "
            ]
          },
          "metadata": {},
          "execution_count": 133
        }
      ]
    },
    {
      "cell_type": "markdown",
      "source": [
        "**2) If you had to pick 3 beers to recommend to someone, how would you approach the problem ?**\n",
        "\n",
        "-> Since I don't know what type of beers the person is fond of, I would recommend **3 different types of beers with the highest average review_overall rate that have more than 100 reviews**, to be sure than enough people had a chance to give their opinion about a given beer. The results in df_filtered table show that I should recommend:\n",
        "\n",
        "**1) Citra DIPA (American Double / Imperial IPA)\n",
        "2) Cantillon Blåbær Lambik (Lambic - Fruit)\n",
        "3) Deviation - Bottleworks 9th Anniversary (American Wild Ale)**"
      ],
      "metadata": {
        "id": "p1bn-9QuJUgM"
      }
    },
    {
      "cell_type": "code",
      "source": [
        "len(set(df['brewery_name']))"
      ],
      "metadata": {
        "colab": {
          "base_uri": "https://localhost:8080/"
        },
        "id": "rMBjce65Y0Sf",
        "outputId": "d25bc30b-6da2-4d4f-c4b7-a3d988d1c28f"
      },
      "execution_count": null,
      "outputs": [
        {
          "output_type": "execute_result",
          "data": {
            "text/plain": [
              "5743"
            ]
          },
          "metadata": {},
          "execution_count": 135
        }
      ]
    },
    {
      "cell_type": "code",
      "source": [
        "len(set(df['beer_style']))"
      ],
      "metadata": {
        "colab": {
          "base_uri": "https://localhost:8080/"
        },
        "id": "NW8fuAUZY2e3",
        "outputId": "a7c01fc9-ae44-42c1-869d-8210651cdbc8"
      },
      "execution_count": null,
      "outputs": [
        {
          "output_type": "execute_result",
          "data": {
            "text/plain": [
              "104"
            ]
          },
          "metadata": {},
          "execution_count": 136
        }
      ]
    },
    {
      "cell_type": "code",
      "source": [
        "df.isna().sum()"
      ],
      "metadata": {
        "colab": {
          "base_uri": "https://localhost:8080/"
        },
        "id": "gX3xNo5VUtEW",
        "outputId": "4ed9ab2f-0b85-40c7-e958-e82e04a15d7e"
      },
      "execution_count": null,
      "outputs": [
        {
          "output_type": "execute_result",
          "data": {
            "text/plain": [
              "brewery_id                0\n",
              "brewery_name             15\n",
              "review_time               0\n",
              "review_overall            0\n",
              "review_aroma              0\n",
              "review_appearance         0\n",
              "review_profilename      348\n",
              "beer_style                0\n",
              "review_palate             0\n",
              "review_taste              0\n",
              "beer_name                 0\n",
              "beer_abv              67785\n",
              "beer_beerid               0\n",
              "dtype: int64"
            ]
          },
          "metadata": {},
          "execution_count": 134
        }
      ]
    },
    {
      "cell_type": "code",
      "source": [
        "beer_abv_mean = df['beer_abv'].mean()"
      ],
      "metadata": {
        "id": "3JUXQftMVrig"
      },
      "execution_count": null,
      "outputs": []
    },
    {
      "cell_type": "code",
      "source": [
        "df['beer_abv'] = df['beer_abv'].fillna(beer_abv_mean)"
      ],
      "metadata": {
        "id": "lV0mSj1rVc2D"
      },
      "execution_count": null,
      "outputs": []
    },
    {
      "cell_type": "code",
      "source": [
        "X = df[['review_aroma',\n",
        "        'review_appearance',\n",
        "        'review_palate',\n",
        "        'review_taste',\n",
        "        'beer_abv']]\n",
        "Y = df['review_overall']"
      ],
      "metadata": {
        "id": "HGY7oyilRyVT"
      },
      "execution_count": null,
      "outputs": []
    },
    {
      "cell_type": "code",
      "source": [
        "model = LinearRegression()"
      ],
      "metadata": {
        "id": "iCKywuILSsxR"
      },
      "execution_count": null,
      "outputs": []
    },
    {
      "cell_type": "code",
      "source": [
        "model.fit(X,Y)"
      ],
      "metadata": {
        "colab": {
          "base_uri": "https://localhost:8080/",
          "height": 75
        },
        "id": "iIj09wU0SxXq",
        "outputId": "469c9aca-5437-4bd5-f606-aafa85ab3182"
      },
      "execution_count": null,
      "outputs": [
        {
          "output_type": "execute_result",
          "data": {
            "text/plain": [
              "LinearRegression()"
            ],
            "text/html": [
              "<style>#sk-container-id-5 {color: black;background-color: white;}#sk-container-id-5 pre{padding: 0;}#sk-container-id-5 div.sk-toggleable {background-color: white;}#sk-container-id-5 label.sk-toggleable__label {cursor: pointer;display: block;width: 100%;margin-bottom: 0;padding: 0.3em;box-sizing: border-box;text-align: center;}#sk-container-id-5 label.sk-toggleable__label-arrow:before {content: \"▸\";float: left;margin-right: 0.25em;color: #696969;}#sk-container-id-5 label.sk-toggleable__label-arrow:hover:before {color: black;}#sk-container-id-5 div.sk-estimator:hover label.sk-toggleable__label-arrow:before {color: black;}#sk-container-id-5 div.sk-toggleable__content {max-height: 0;max-width: 0;overflow: hidden;text-align: left;background-color: #f0f8ff;}#sk-container-id-5 div.sk-toggleable__content pre {margin: 0.2em;color: black;border-radius: 0.25em;background-color: #f0f8ff;}#sk-container-id-5 input.sk-toggleable__control:checked~div.sk-toggleable__content {max-height: 200px;max-width: 100%;overflow: auto;}#sk-container-id-5 input.sk-toggleable__control:checked~label.sk-toggleable__label-arrow:before {content: \"▾\";}#sk-container-id-5 div.sk-estimator input.sk-toggleable__control:checked~label.sk-toggleable__label {background-color: #d4ebff;}#sk-container-id-5 div.sk-label input.sk-toggleable__control:checked~label.sk-toggleable__label {background-color: #d4ebff;}#sk-container-id-5 input.sk-hidden--visually {border: 0;clip: rect(1px 1px 1px 1px);clip: rect(1px, 1px, 1px, 1px);height: 1px;margin: -1px;overflow: hidden;padding: 0;position: absolute;width: 1px;}#sk-container-id-5 div.sk-estimator {font-family: monospace;background-color: #f0f8ff;border: 1px dotted black;border-radius: 0.25em;box-sizing: border-box;margin-bottom: 0.5em;}#sk-container-id-5 div.sk-estimator:hover {background-color: #d4ebff;}#sk-container-id-5 div.sk-parallel-item::after {content: \"\";width: 100%;border-bottom: 1px solid gray;flex-grow: 1;}#sk-container-id-5 div.sk-label:hover label.sk-toggleable__label {background-color: #d4ebff;}#sk-container-id-5 div.sk-serial::before {content: \"\";position: absolute;border-left: 1px solid gray;box-sizing: border-box;top: 0;bottom: 0;left: 50%;z-index: 0;}#sk-container-id-5 div.sk-serial {display: flex;flex-direction: column;align-items: center;background-color: white;padding-right: 0.2em;padding-left: 0.2em;position: relative;}#sk-container-id-5 div.sk-item {position: relative;z-index: 1;}#sk-container-id-5 div.sk-parallel {display: flex;align-items: stretch;justify-content: center;background-color: white;position: relative;}#sk-container-id-5 div.sk-item::before, #sk-container-id-5 div.sk-parallel-item::before {content: \"\";position: absolute;border-left: 1px solid gray;box-sizing: border-box;top: 0;bottom: 0;left: 50%;z-index: -1;}#sk-container-id-5 div.sk-parallel-item {display: flex;flex-direction: column;z-index: 1;position: relative;background-color: white;}#sk-container-id-5 div.sk-parallel-item:first-child::after {align-self: flex-end;width: 50%;}#sk-container-id-5 div.sk-parallel-item:last-child::after {align-self: flex-start;width: 50%;}#sk-container-id-5 div.sk-parallel-item:only-child::after {width: 0;}#sk-container-id-5 div.sk-dashed-wrapped {border: 1px dashed gray;margin: 0 0.4em 0.5em 0.4em;box-sizing: border-box;padding-bottom: 0.4em;background-color: white;}#sk-container-id-5 div.sk-label label {font-family: monospace;font-weight: bold;display: inline-block;line-height: 1.2em;}#sk-container-id-5 div.sk-label-container {text-align: center;}#sk-container-id-5 div.sk-container {/* jupyter's `normalize.less` sets `[hidden] { display: none; }` but bootstrap.min.css set `[hidden] { display: none !important; }` so we also need the `!important` here to be able to override the default hidden behavior on the sphinx rendered scikit-learn.org. See: https://github.com/scikit-learn/scikit-learn/issues/21755 */display: inline-block !important;position: relative;}#sk-container-id-5 div.sk-text-repr-fallback {display: none;}</style><div id=\"sk-container-id-5\" class=\"sk-top-container\"><div class=\"sk-text-repr-fallback\"><pre>LinearRegression()</pre><b>In a Jupyter environment, please rerun this cell to show the HTML representation or trust the notebook. <br />On GitHub, the HTML representation is unable to render, please try loading this page with nbviewer.org.</b></div><div class=\"sk-container\" hidden><div class=\"sk-item\"><div class=\"sk-estimator sk-toggleable\"><input class=\"sk-toggleable__control sk-hidden--visually\" id=\"sk-estimator-id-5\" type=\"checkbox\" checked><label for=\"sk-estimator-id-5\" class=\"sk-toggleable__label sk-toggleable__label-arrow\">LinearRegression</label><div class=\"sk-toggleable__content\"><pre>LinearRegression()</pre></div></div></div></div></div>"
            ]
          },
          "metadata": {},
          "execution_count": 141
        }
      ]
    },
    {
      "cell_type": "code",
      "source": [
        "coefficients = model.coef_"
      ],
      "metadata": {
        "id": "kICr76WlXzD8"
      },
      "execution_count": null,
      "outputs": []
    },
    {
      "cell_type": "code",
      "source": [
        "for i, col in enumerate(X.columns):\n",
        "  print(f\"Coefficient for {col}: {coefficients[i]}\")"
      ],
      "metadata": {
        "colab": {
          "base_uri": "https://localhost:8080/"
        },
        "id": "f_BI864_aYhI",
        "outputId": "b19e3a3b-216d-424f-c09c-43a8568a711d"
      },
      "execution_count": null,
      "outputs": [
        {
          "output_type": "stream",
          "name": "stdout",
          "text": [
            "Coefficient for review_aroma: 0.07572946538009265\n",
            "Coefficient for review_appearance: 0.047505951165872085\n",
            "Coefficient for review_palate: 0.27047288209265985\n",
            "Coefficient for review_taste: 0.5553359864769263\n",
            "Coefficient for beer_abv: -0.04143471973605689\n"
          ]
        }
      ]
    },
    {
      "cell_type": "markdown",
      "source": [
        "**3) What are the factors that impacts the quality of beer the most ?**\n",
        "\n",
        "Assuming that beer quality = review_overall, according to the above linear regression model, **review_taste** variable impacts quality of beers the most (each additional point of review_taste adds 0.55 point to review_overall rate, while all the other conditions remain unchanged). Two other factors that impact review_overall result are: **review_palate** (each additional point of review_palate adds 0.27 point to review_overall rate, while all the other conditions remain unchanged) and **review_aroma** (each additional point of review_aroma adds 0.08 point to review_overall rate, while all the other conditions remain unchanged)"
      ],
      "metadata": {
        "id": "2rMxvsAKbjH8"
      }
    },
    {
      "cell_type": "markdown",
      "source": [
        "Pearson correlation"
      ],
      "metadata": {
        "id": "NVGhFf7j_Hlc"
      }
    },
    {
      "cell_type": "code",
      "source": [
        "sns.heatmap(df[['review_overall','review_aroma','review_appearance','review_palate','review_taste','beer_abv']].corr(),annot=True)"
      ],
      "metadata": {
        "colab": {
          "base_uri": "https://localhost:8080/",
          "height": 574
        },
        "id": "HdCKkwiV-2FN",
        "outputId": "f4d765d4-eb3e-4e55-c164-e569fd8599ed"
      },
      "execution_count": null,
      "outputs": [
        {
          "output_type": "execute_result",
          "data": {
            "text/plain": [
              "<Axes: >"
            ]
          },
          "metadata": {},
          "execution_count": 144
        },
        {
          "output_type": "display_data",
          "data": {
            "text/plain": [
              "<Figure size 640x480 with 2 Axes>"
            ],
            "image/png": "[encoded data removed]"
          },
          "metadata": {}
        }
      ]
    },
    {
      "cell_type": "markdown",
      "source": [
        "**4) I enjoy a beer which aroma and appearance matches the beer style. What beer should I buy ?**"
      ],
      "metadata": {
        "id": "fBvaGyRs_-DW"
      }
    },
    {
      "cell_type": "code",
      "source": [
        "df_grouped_2 = df.groupby(['beer_style']).agg({'review_aroma':['mean'],'review_appearance':['mean','count']}).reset_index()"
      ],
      "metadata": {
        "id": "S6oP1tXhl1G6"
      },
      "execution_count": null,
      "outputs": []
    },
    {
      "cell_type": "code",
      "source": [
        "df_grouped_2 = df_grouped_2.transpose().reset_index(drop=True).transpose()"
      ],
      "metadata": {
        "id": "84uEtPgrB6HE"
      },
      "execution_count": null,
      "outputs": []
    },
    {
      "cell_type": "code",
      "source": [
        "df_grouped_2 = df_grouped_2.rename(columns={0:'beer_style',\n",
        "                                            1:'aroma_mean',\n",
        "                                            2:'appearance_mean',\n",
        "                                            3:'reviews_count'})"
      ],
      "metadata": {
        "id": "cvfZyu9tDD0J"
      },
      "execution_count": null,
      "outputs": []
    },
    {
      "cell_type": "markdown",
      "source": [
        "-> Checking which type of beer has the highest average rate on aroma and appearance:"
      ],
      "metadata": {
        "id": "h3qtKvk_IwYx"
      }
    },
    {
      "cell_type": "code",
      "source": [
        "df_grouped_2.sort_values(by=['aroma_mean','appearance_mean'], ascending=False).head(5)"
      ],
      "metadata": {
        "colab": {
          "base_uri": "https://localhost:8080/",
          "height": 206
        },
        "id": "nzRUAZVfDpvB",
        "outputId": "21ed1bf1-6b95-43f1-a056-33e580d64f8c"
      },
      "execution_count": null,
      "outputs": [
        {
          "output_type": "execute_result",
          "data": {
            "text/plain": [
              "                          beer_style aroma_mean appearance_mean reviews_count\n",
              "11  American Double / Imperial Stout   4.160665        4.163633         50705\n",
              "41                           Eisbock   4.156778        3.964514          2663\n",
              "86                  Quadrupel (Quad)   4.132533        4.117964         18086\n",
              "20                 American Wild Ale   4.126756        4.005451         17794\n",
              "75                Lambic - Unblended   4.118043        3.912478          1114"
            ],
            "text/html": [
              "\n",
              "  <div id=\"df-a63cbeea-d17e-48ef-a15c-8d03fb4deb34\">\n",
              "    <div class=\"colab-df-container\">\n",
              "      <div>\n",
              "<style scoped>\n",
              "    .dataframe tbody tr th:only-of-type {\n",
              "        vertical-align: middle;\n",
              "    }\n",
              "\n",
              "    .dataframe tbody tr th {\n",
              "        vertical-align: top;\n",
              "    }\n",
              "\n",
              "    .dataframe thead th {\n",
              "        text-align: right;\n",
              "    }\n",
              "</style>\n",
              "<table border=\"1\" class=\"dataframe\">\n",
              "  <thead>\n",
              "    <tr style=\"text-align: right;\">\n",
              "      <th></th>\n",
              "      <th>beer_style</th>\n",
              "      <th>aroma_mean</th>\n",
              "      <th>appearance_mean</th>\n",
              "      <th>reviews_count</th>\n",
              "    </tr>\n",
              "  </thead>\n",
              "  <tbody>\n",
              "    <tr>\n",
              "      <th>11</th>\n",
              "      <td>American Double / Imperial Stout</td>\n",
              "      <td>4.160665</td>\n",
              "      <td>4.163633</td>\n",
              "      <td>50705</td>\n",
              "    </tr>\n",
              "    <tr>\n",
              "      <th>41</th>\n",
              "      <td>Eisbock</td>\n",
              "      <td>4.156778</td>\n",
              "      <td>3.964514</td>\n",
              "      <td>2663</td>\n",
              "    </tr>\n",
              "    <tr>\n",
              "      <th>86</th>\n",
              "      <td>Quadrupel (Quad)</td>\n",
              "      <td>4.132533</td>\n",
              "      <td>4.117964</td>\n",
              "      <td>18086</td>\n",
              "    </tr>\n",
              "    <tr>\n",
              "      <th>20</th>\n",
              "      <td>American Wild Ale</td>\n",
              "      <td>4.126756</td>\n",
              "      <td>4.005451</td>\n",
              "      <td>17794</td>\n",
              "    </tr>\n",
              "    <tr>\n",
              "      <th>75</th>\n",
              "      <td>Lambic - Unblended</td>\n",
              "      <td>4.118043</td>\n",
              "      <td>3.912478</td>\n",
              "      <td>1114</td>\n",
              "    </tr>\n",
              "  </tbody>\n",
              "</table>\n",
              "</div>\n",
              "      <button class=\"colab-df-convert\" onclick=\"convertToInteractive('df-a63cbeea-d17e-48ef-a15c-8d03fb4deb34')\"\n",
              "              title=\"Convert this dataframe to an interactive table.\"\n",
              "              style=\"display:none;\">\n",
              "        \n",
              "  <svg xmlns=\"http://www.w3.org/2000/svg\" height=\"24px\"viewBox=\"0 0 24 24\"\n",
              "       width=\"24px\">\n",
              "    <path d=\"M0 0h24v24H0V0z\" fill=\"none\"/>\n",
              "    <path d=\"M18.56 5.44l.94 2.06.94-2.06 2.06-.94-2.06-.94-.94-2.06-.94 2.06-2.06.94zm-11 1L8.5 8.5l.94-2.06 2.06-.94-2.06-.94L8.5 2.5l-.94 2.06-2.06.94zm10 10l.94 2.06.94-2.06 2.06-.94-2.06-.94-.94-2.06-.94 2.06-2.06.94z\"/><path d=\"M17.41 7.96l-1.37-1.37c-.4-.4-.92-.59-1.43-.59-.52 0-1.04.2-1.43.59L10.3 9.45l-7.72 7.72c-.78.78-.78 2.05 0 2.83L4 21.41c.39.39.9.59 1.41.59.51 0 1.02-.2 1.41-.59l7.78-7.78 2.81-2.81c.8-.78.8-2.07 0-2.86zM5.41 20L4 18.59l7.72-7.72 1.47 1.35L5.41 20z\"/>\n",
              "  </svg>\n",
              "      </button>\n",
              "      \n",
              "  <style>\n",
              "    .colab-df-container {\n",
              "      display:flex;\n",
              "      flex-wrap:wrap;\n",
              "      gap: 12px;\n",
              "    }\n",
              "\n",
              "    .colab-df-convert {\n",
              "      background-color: #E8F0FE;\n",
              "      border: none;\n",
              "      border-radius: 50%;\n",
              "      cursor: pointer;\n",
              "      display: none;\n",
              "      fill: #1967D2;\n",
              "      height: 32px;\n",
              "      padding: 0 0 0 0;\n",
              "      width: 32px;\n",
              "    }\n",
              "\n",
              "    .colab-df-convert:hover {\n",
              "      background-color: #E2EBFA;\n",
              "      box-shadow: 0px 1px 2px rgba(60, 64, 67, 0.3), 0px 1px 3px 1px rgba(60, 64, 67, 0.15);\n",
              "      fill: #174EA6;\n",
              "    }\n",
              "\n",
              "    [theme=dark] .colab-df-convert {\n",
              "      background-color: #3B4455;\n",
              "      fill: #D2E3FC;\n",
              "    }\n",
              "\n",
              "    [theme=dark] .colab-df-convert:hover {\n",
              "      background-color: #434B5C;\n",
              "      box-shadow: 0px 1px 3px 1px rgba(0, 0, 0, 0.15);\n",
              "      filter: drop-shadow(0px 1px 2px rgba(0, 0, 0, 0.3));\n",
              "      fill: #FFFFFF;\n",
              "    }\n",
              "  </style>\n",
              "\n",
              "      <script>\n",
              "        const buttonEl =\n",
              "          document.querySelector('#df-a63cbeea-d17e-48ef-a15c-8d03fb4deb34 button.colab-df-convert');\n",
              "        buttonEl.style.display =\n",
              "          google.colab.kernel.accessAllowed ? 'block' : 'none';\n",
              "\n",
              "        async function convertToInteractive(key) {\n",
              "          const element = document.querySelector('#df-a63cbeea-d17e-48ef-a15c-8d03fb4deb34');\n",
              "          const dataTable =\n",
              "            await google.colab.kernel.invokeFunction('convertToInteractive',\n",
              "                                                     [key], {});\n",
              "          if (!dataTable) return;\n",
              "\n",
              "          const docLinkHtml = 'Like what you see? Visit the ' +\n",
              "            '<a target=\"_blank\" href=https://colab.research.google.com/notebooks/data_table.ipynb>data table notebook</a>'\n",
              "            + ' to learn more about interactive tables.';\n",
              "          element.innerHTML = '';\n",
              "          dataTable['output_type'] = 'display_data';\n",
              "          await google.colab.output.renderOutput(dataTable, element);\n",
              "          const docLink = document.createElement('div');\n",
              "          docLink.innerHTML = docLinkHtml;\n",
              "          element.appendChild(docLink);\n",
              "        }\n",
              "      </script>\n",
              "    </div>\n",
              "  </div>\n",
              "  "
            ]
          },
          "metadata": {},
          "execution_count": 183
        }
      ]
    },
    {
      "cell_type": "code",
      "source": [
        "fig = px.scatter(df_grouped_2,x='aroma_mean', y='appearance_mean',color='beer_style')\n",
        "fig.show()"
      ],
      "metadata": {
        "colab": {
          "base_uri": "https://localhost:8080/",
          "height": 542
        },
        "id": "Xk1aeWWdAlVw",
        "outputId": "94b63878-b2bf-4382-f42b-549a3fc54e0b"
      },
      "execution_count": null,
      "outputs": [
        {
          "output_type": "display_data",
          "data": {
            "text/html": [
              "<html>\n",
              "<head><meta charset=\"utf-8\" /></head>\n",
              "<body>\n",
              "    <div>            <script src=\"https://cdnjs.cloudflare.com/ajax/libs/mathjax/2.7.5/MathJax.js?config=TeX-AMS-MML_SVG\"></script><script type=\"text/javascript\">if (window.MathJax && window.MathJax.Hub && window.MathJax.Hub.Config) {window.MathJax.Hub.Config({SVG: {font: \"STIX-Web\"}});}</script>                <script type=\"text/javascript\">window.PlotlyConfig = {MathJaxConfig: 'local'};</script>\n",
              "        <script src=\"https://cdn.plot.ly/plotly-2.18.2.min.js\"></script>                <div id=\"e597e865-6ccf-4b35-9859-130f926a3e6e\" class=\"plotly-graph-div\" style=\"height:525px; width:100%;\"></div>            <script type=\"text/javascript\">                                    window.PLOTLYENV=window.PLOTLYENV || {};                                    if (document.getElementById(\"e597e865-6ccf-4b35-9859-130f926a3e6e\")) {                    Plotly.newPlot(                        \"e597e865-6ccf-4b35-9859-130f926a3e6e\",                        [{\"hovertemplate\":\"beer_style=Altbier<br>aroma_mean=%{x}<br>appearance_mean=%{y}<extra></extra>\",\"legendgroup\":\"Altbier\",\"marker\":{\"color\":\"#636efa\",\"symbol\":\"circle\"},\"mode\":\"markers\",\"name\":\"Altbier\",\"orientation\":\"v\",\"showlegend\":true,\"x\":[3.624014985144038],\"xaxis\":\"x\",\"y\":[3.8093269603410413],\"yaxis\":\"y\",\"type\":\"scatter\"},{\"hovertemplate\":\"beer_style=American Adjunct Lager<br>aroma_mean=%{x}<br>appearance_mean=%{y}<extra></extra>\",\"legendgroup\":\"American Adjunct Lager\",\"marker\":{\"color\":\"#EF553B\",\"symbol\":\"circle\"},\"mode\":\"markers\",\"name\":\"American Adjunct Lager\",\"orientation\":\"v\",\"showlegend\":true,\"x\":[2.480210738560604],\"xaxis\":\"x\",\"y\":[2.7885459689746006],\"yaxis\":\"y\",\"type\":\"scatter\"},{\"hovertemplate\":\"beer_style=American Amber / Red Ale<br>aroma_mean=%{x}<br>appearance_mean=%{y}<extra></extra>\",\"legendgroup\":\"American Amber / Red Ale\",\"marker\":{\"color\":\"#00cc96\",\"symbol\":\"circle\"},\"mode\":\"markers\",\"name\":\"American Amber / Red Ale\",\"orientation\":\"v\",\"showlegend\":true,\"x\":[3.6272540490918233],\"xaxis\":\"x\",\"y\":[3.810189941203471],\"yaxis\":\"y\",\"type\":\"scatter\"},{\"hovertemplate\":\"beer_style=American Amber / Red Lager<br>aroma_mean=%{x}<br>appearance_mean=%{y}<extra></extra>\",\"legendgroup\":\"American Amber / Red Lager\",\"marker\":{\"color\":\"#ab63fa\",\"symbol\":\"circle\"},\"mode\":\"markers\",\"name\":\"American Amber / Red Lager\",\"orientation\":\"v\",\"showlegend\":true,\"x\":[3.213296101385458],\"xaxis\":\"x\",\"y\":[3.5274943615078937],\"yaxis\":\"y\",\"type\":\"scatter\"},{\"hovertemplate\":\"beer_style=American Barleywine<br>aroma_mean=%{x}<br>appearance_mean=%{y}<extra></extra>\",\"legendgroup\":\"American Barleywine\",\"marker\":{\"color\":\"#FFA15A\",\"symbol\":\"circle\"},\"mode\":\"markers\",\"name\":\"American Barleywine\",\"orientation\":\"v\",\"showlegend\":true,\"x\":[4.019343011074529],\"xaxis\":\"x\",\"y\":[4.03653472014367],\"yaxis\":\"y\",\"type\":\"scatter\"},{\"hovertemplate\":\"beer_style=American Black Ale<br>aroma_mean=%{x}<br>appearance_mean=%{y}<extra></extra>\",\"legendgroup\":\"American Black Ale\",\"marker\":{\"color\":\"#19d3f3\",\"symbol\":\"circle\"},\"mode\":\"markers\",\"name\":\"American Black Ale\",\"orientation\":\"v\",\"showlegend\":true,\"x\":[3.9304560545168616],\"xaxis\":\"x\",\"y\":[4.112921544644418],\"yaxis\":\"y\",\"type\":\"scatter\"},{\"hovertemplate\":\"beer_style=American Blonde Ale<br>aroma_mean=%{x}<br>appearance_mean=%{y}<extra></extra>\",\"legendgroup\":\"American Blonde Ale\",\"marker\":{\"color\":\"#FF6692\",\"symbol\":\"circle\"},\"mode\":\"markers\",\"name\":\"American Blonde Ale\",\"orientation\":\"v\",\"showlegend\":true,\"x\":[3.3132956152758135],\"xaxis\":\"x\",\"y\":[3.508879459374509],\"yaxis\":\"y\",\"type\":\"scatter\"},{\"hovertemplate\":\"beer_style=American Brown Ale<br>aroma_mean=%{x}<br>appearance_mean=%{y}<extra></extra>\",\"legendgroup\":\"American Brown Ale\",\"marker\":{\"color\":\"#B6E880\",\"symbol\":\"circle\"},\"mode\":\"markers\",\"name\":\"American Brown Ale\",\"orientation\":\"v\",\"showlegend\":true,\"x\":[3.783314226983437],\"xaxis\":\"x\",\"y\":[3.8874372455231847],\"yaxis\":\"y\",\"type\":\"scatter\"},{\"hovertemplate\":\"beer_style=American Dark Wheat Ale<br>aroma_mean=%{x}<br>appearance_mean=%{y}<extra></extra>\",\"legendgroup\":\"American Dark Wheat Ale\",\"marker\":{\"color\":\"#FF97FF\",\"symbol\":\"circle\"},\"mode\":\"markers\",\"name\":\"American Dark Wheat Ale\",\"orientation\":\"v\",\"showlegend\":true,\"x\":[3.499659863945578],\"xaxis\":\"x\",\"y\":[3.6710884353741497],\"yaxis\":\"y\",\"type\":\"scatter\"},{\"hovertemplate\":\"beer_style=American Double / Imperial IPA<br>aroma_mean=%{x}<br>appearance_mean=%{y}<extra></extra>\",\"legendgroup\":\"American Double / Imperial IPA\",\"marker\":{\"color\":\"#FECB52\",\"symbol\":\"circle\"},\"mode\":\"markers\",\"name\":\"American Double / Imperial IPA\",\"orientation\":\"v\",\"showlegend\":true,\"x\":[4.097781964944113],\"xaxis\":\"x\",\"y\":[4.078916454400596],\"yaxis\":\"y\",\"type\":\"scatter\"},{\"hovertemplate\":\"beer_style=American Double / Imperial Pilsner<br>aroma_mean=%{x}<br>appearance_mean=%{y}<extra></extra>\",\"legendgroup\":\"American Double / Imperial Pilsner\",\"marker\":{\"color\":\"#636efa\",\"symbol\":\"circle\"},\"mode\":\"markers\",\"name\":\"American Double / Imperial Pilsner\",\"orientation\":\"v\",\"showlegend\":true,\"x\":[3.8708371665133394],\"xaxis\":\"x\",\"y\":[4.009475620975161],\"yaxis\":\"y\",\"type\":\"scatter\"},{\"hovertemplate\":\"beer_style=American Double / Imperial Stout<br>aroma_mean=%{x}<br>appearance_mean=%{y}<extra></extra>\",\"legendgroup\":\"American Double / Imperial Stout\",\"marker\":{\"color\":\"#EF553B\",\"symbol\":\"circle\"},\"mode\":\"markers\",\"name\":\"American Double / Imperial Stout\",\"orientation\":\"v\",\"showlegend\":true,\"x\":[4.160664628734839],\"xaxis\":\"x\",\"y\":[4.163632777832561],\"yaxis\":\"y\",\"type\":\"scatter\"},{\"hovertemplate\":\"beer_style=American IPA<br>aroma_mean=%{x}<br>appearance_mean=%{y}<extra></extra>\",\"legendgroup\":\"American IPA\",\"marker\":{\"color\":\"#00cc96\",\"symbol\":\"circle\"},\"mode\":\"markers\",\"name\":\"American IPA\",\"orientation\":\"v\",\"showlegend\":true,\"x\":[3.8941030394774887],\"xaxis\":\"x\",\"y\":[3.9685251645604067],\"yaxis\":\"y\",\"type\":\"scatter\"},{\"hovertemplate\":\"beer_style=American Malt Liquor<br>aroma_mean=%{x}<br>appearance_mean=%{y}<extra></extra>\",\"legendgroup\":\"American Malt Liquor\",\"marker\":{\"color\":\"#ab63fa\",\"symbol\":\"circle\"},\"mode\":\"markers\",\"name\":\"American Malt Liquor\",\"orientation\":\"v\",\"showlegend\":true,\"x\":[2.413885350318471],\"xaxis\":\"x\",\"y\":[2.8378343949044584],\"yaxis\":\"y\",\"type\":\"scatter\"},{\"hovertemplate\":\"beer_style=American Pale Ale (APA)<br>aroma_mean=%{x}<br>appearance_mean=%{y}<extra></extra>\",\"legendgroup\":\"American Pale Ale (APA)\",\"marker\":{\"color\":\"#FFA15A\",\"symbol\":\"circle\"},\"mode\":\"markers\",\"name\":\"American Pale Ale (APA)\",\"orientation\":\"v\",\"showlegend\":true,\"x\":[3.657746301343963],\"xaxis\":\"x\",\"y\":[3.7816099198033686],\"yaxis\":\"y\",\"type\":\"scatter\"},{\"hovertemplate\":\"beer_style=American Pale Lager<br>aroma_mean=%{x}<br>appearance_mean=%{y}<extra></extra>\",\"legendgroup\":\"American Pale Lager\",\"marker\":{\"color\":\"#19d3f3\",\"symbol\":\"circle\"},\"mode\":\"markers\",\"name\":\"American Pale Lager\",\"orientation\":\"v\",\"showlegend\":true,\"x\":[3.053907022749753],\"xaxis\":\"x\",\"y\":[3.2915155511594683],\"yaxis\":\"y\",\"type\":\"scatter\"},{\"hovertemplate\":\"beer_style=American Pale Wheat Ale<br>aroma_mean=%{x}<br>appearance_mean=%{y}<extra></extra>\",\"legendgroup\":\"American Pale Wheat Ale\",\"marker\":{\"color\":\"#FF6692\",\"symbol\":\"circle\"},\"mode\":\"markers\",\"name\":\"American Pale Wheat Ale\",\"orientation\":\"v\",\"showlegend\":true,\"x\":[3.404148074698397],\"xaxis\":\"x\",\"y\":[3.5454676912906957],\"yaxis\":\"y\",\"type\":\"scatter\"},{\"hovertemplate\":\"beer_style=American Porter<br>aroma_mean=%{x}<br>appearance_mean=%{y}<extra></extra>\",\"legendgroup\":\"American Porter\",\"marker\":{\"color\":\"#B6E880\",\"symbol\":\"circle\"},\"mode\":\"markers\",\"name\":\"American Porter\",\"orientation\":\"v\",\"showlegend\":true,\"x\":[3.8364700754799217],\"xaxis\":\"x\",\"y\":[3.957396437981655],\"yaxis\":\"y\",\"type\":\"scatter\"},{\"hovertemplate\":\"beer_style=American Stout<br>aroma_mean=%{x}<br>appearance_mean=%{y}<extra></extra>\",\"legendgroup\":\"American Stout\",\"marker\":{\"color\":\"#FF97FF\",\"symbol\":\"circle\"},\"mode\":\"markers\",\"name\":\"American Stout\",\"orientation\":\"v\",\"showlegend\":true,\"x\":[3.8842611459776673],\"xaxis\":\"x\",\"y\":[3.983596870160567],\"yaxis\":\"y\",\"type\":\"scatter\"},{\"hovertemplate\":\"beer_style=American Strong Ale<br>aroma_mean=%{x}<br>appearance_mean=%{y}<extra></extra>\",\"legendgroup\":\"American Strong Ale\",\"marker\":{\"color\":\"#FECB52\",\"symbol\":\"circle\"},\"mode\":\"markers\",\"name\":\"American Strong Ale\",\"orientation\":\"v\",\"showlegend\":true,\"x\":[3.9795742682735953],\"xaxis\":\"x\",\"y\":[4.026749100015652],\"yaxis\":\"y\",\"type\":\"scatter\"},{\"hovertemplate\":\"beer_style=American Wild Ale<br>aroma_mean=%{x}<br>appearance_mean=%{y}<extra></extra>\",\"legendgroup\":\"American Wild Ale\",\"marker\":{\"color\":\"#636efa\",\"symbol\":\"circle\"},\"mode\":\"markers\",\"name\":\"American Wild Ale\",\"orientation\":\"v\",\"showlegend\":true,\"x\":[4.126756209958413],\"xaxis\":\"x\",\"y\":[4.0054512757109135],\"yaxis\":\"y\",\"type\":\"scatter\"},{\"hovertemplate\":\"beer_style=Baltic Porter<br>aroma_mean=%{x}<br>appearance_mean=%{y}<extra></extra>\",\"legendgroup\":\"Baltic Porter\",\"marker\":{\"color\":\"#EF553B\",\"symbol\":\"circle\"},\"mode\":\"markers\",\"name\":\"Baltic Porter\",\"orientation\":\"v\",\"showlegend\":true,\"x\":[3.9463791911510544],\"xaxis\":\"x\",\"y\":[4.039535084687176],\"yaxis\":\"y\",\"type\":\"scatter\"},{\"hovertemplate\":\"beer_style=Belgian Dark Ale<br>aroma_mean=%{x}<br>appearance_mean=%{y}<extra></extra>\",\"legendgroup\":\"Belgian Dark Ale\",\"marker\":{\"color\":\"#00cc96\",\"symbol\":\"circle\"},\"mode\":\"markers\",\"name\":\"Belgian Dark Ale\",\"orientation\":\"v\",\"showlegend\":true,\"x\":[3.686716600428004],\"xaxis\":\"x\",\"y\":[3.889483338428615],\"yaxis\":\"y\",\"type\":\"scatter\"},{\"hovertemplate\":\"beer_style=Belgian IPA<br>aroma_mean=%{x}<br>appearance_mean=%{y}<extra></extra>\",\"legendgroup\":\"Belgian IPA\",\"marker\":{\"color\":\"#ab63fa\",\"symbol\":\"circle\"},\"mode\":\"markers\",\"name\":\"Belgian IPA\",\"orientation\":\"v\",\"showlegend\":true,\"x\":[3.9797530270226926],\"xaxis\":\"x\",\"y\":[4.075214497634512],\"yaxis\":\"y\",\"type\":\"scatter\"},{\"hovertemplate\":\"beer_style=Belgian Pale Ale<br>aroma_mean=%{x}<br>appearance_mean=%{y}<extra></extra>\",\"legendgroup\":\"Belgian Pale Ale\",\"marker\":{\"color\":\"#FFA15A\",\"symbol\":\"circle\"},\"mode\":\"markers\",\"name\":\"Belgian Pale Ale\",\"orientation\":\"v\",\"showlegend\":true,\"x\":[3.7434122145292963],\"xaxis\":\"x\",\"y\":[3.8716286039061694],\"yaxis\":\"y\",\"type\":\"scatter\"},{\"hovertemplate\":\"beer_style=Belgian Strong Dark Ale<br>aroma_mean=%{x}<br>appearance_mean=%{y}<extra></extra>\",\"legendgroup\":\"Belgian Strong Dark Ale\",\"marker\":{\"color\":\"#19d3f3\",\"symbol\":\"circle\"},\"mode\":\"markers\",\"name\":\"Belgian Strong Dark Ale\",\"orientation\":\"v\",\"showlegend\":true,\"x\":[3.972259756776091],\"xaxis\":\"x\",\"y\":[4.008292928490051],\"yaxis\":\"y\",\"type\":\"scatter\"},{\"hovertemplate\":\"beer_style=Belgian Strong Pale Ale<br>aroma_mean=%{x}<br>appearance_mean=%{y}<extra></extra>\",\"legendgroup\":\"Belgian Strong Pale Ale\",\"marker\":{\"color\":\"#FF6692\",\"symbol\":\"circle\"},\"mode\":\"markers\",\"name\":\"Belgian Strong Pale Ale\",\"orientation\":\"v\",\"showlegend\":true,\"x\":[3.9119244204509367],\"xaxis\":\"x\",\"y\":[3.961352810416005],\"yaxis\":\"y\",\"type\":\"scatter\"},{\"hovertemplate\":\"beer_style=Berliner Weissbier<br>aroma_mean=%{x}<br>appearance_mean=%{y}<extra></extra>\",\"legendgroup\":\"Berliner Weissbier\",\"marker\":{\"color\":\"#B6E880\",\"symbol\":\"circle\"},\"mode\":\"markers\",\"name\":\"Berliner Weissbier\",\"orientation\":\"v\",\"showlegend\":true,\"x\":[3.6693525179856117],\"xaxis\":\"x\",\"y\":[3.692661870503597],\"yaxis\":\"y\",\"type\":\"scatter\"},{\"hovertemplate\":\"beer_style=Bi\\u00e8re de Champagne / Bi\\u00e8re Brut<br>aroma_mean=%{x}<br>appearance_mean=%{y}<extra></extra>\",\"legendgroup\":\"Bi\\u00e8re de Champagne / Bi\\u00e8re Brut\",\"marker\":{\"color\":\"#FF97FF\",\"symbol\":\"circle\"},\"mode\":\"markers\",\"name\":\"Bi\\u00e8re de Champagne / Bi\\u00e8re Brut\",\"orientation\":\"v\",\"showlegend\":true,\"x\":[3.7347036328871894],\"xaxis\":\"x\",\"y\":[4.045889101338432],\"yaxis\":\"y\",\"type\":\"scatter\"},{\"hovertemplate\":\"beer_style=Bi\\u00e8re de Garde<br>aroma_mean=%{x}<br>appearance_mean=%{y}<extra></extra>\",\"legendgroup\":\"Bi\\u00e8re de Garde\",\"marker\":{\"color\":\"#FECB52\",\"symbol\":\"circle\"},\"mode\":\"markers\",\"name\":\"Bi\\u00e8re de Garde\",\"orientation\":\"v\",\"showlegend\":true,\"x\":[3.8184722841432603],\"xaxis\":\"x\",\"y\":[3.9052608114132856],\"yaxis\":\"y\",\"type\":\"scatter\"},{\"hovertemplate\":\"beer_style=Black & Tan<br>aroma_mean=%{x}<br>appearance_mean=%{y}<extra></extra>\",\"legendgroup\":\"Black & Tan\",\"marker\":{\"color\":\"#636efa\",\"symbol\":\"circle\"},\"mode\":\"markers\",\"name\":\"Black & Tan\",\"orientation\":\"v\",\"showlegend\":true,\"x\":[3.2714164546225617],\"xaxis\":\"x\",\"y\":[3.6261662425784564],\"yaxis\":\"y\",\"type\":\"scatter\"},{\"hovertemplate\":\"beer_style=Bock<br>aroma_mean=%{x}<br>appearance_mean=%{y}<extra></extra>\",\"legendgroup\":\"Bock\",\"marker\":{\"color\":\"#EF553B\",\"symbol\":\"circle\"},\"mode\":\"markers\",\"name\":\"Bock\",\"orientation\":\"v\",\"showlegend\":true,\"x\":[3.446651630811936],\"xaxis\":\"x\",\"y\":[3.6918372657876475],\"yaxis\":\"y\",\"type\":\"scatter\"},{\"hovertemplate\":\"beer_style=Braggot<br>aroma_mean=%{x}<br>appearance_mean=%{y}<extra></extra>\",\"legendgroup\":\"Braggot\",\"marker\":{\"color\":\"#00cc96\",\"symbol\":\"circle\"},\"mode\":\"markers\",\"name\":\"Braggot\",\"orientation\":\"v\",\"showlegend\":true,\"x\":[3.7596153846153846],\"xaxis\":\"x\",\"y\":[3.768269230769231],\"yaxis\":\"y\",\"type\":\"scatter\"},{\"hovertemplate\":\"beer_style=California Common / Steam Beer<br>aroma_mean=%{x}<br>appearance_mean=%{y}<extra></extra>\",\"legendgroup\":\"California Common / Steam Beer\",\"marker\":{\"color\":\"#ab63fa\",\"symbol\":\"circle\"},\"mode\":\"markers\",\"name\":\"California Common / Steam Beer\",\"orientation\":\"v\",\"showlegend\":true,\"x\":[3.5264982664685487],\"xaxis\":\"x\",\"y\":[3.7753838533927686],\"yaxis\":\"y\",\"type\":\"scatter\"},{\"hovertemplate\":\"beer_style=Chile Beer<br>aroma_mean=%{x}<br>appearance_mean=%{y}<extra></extra>\",\"legendgroup\":\"Chile Beer\",\"marker\":{\"color\":\"#FFA15A\",\"symbol\":\"circle\"},\"mode\":\"markers\",\"name\":\"Chile Beer\",\"orientation\":\"v\",\"showlegend\":true,\"x\":[3.300087489063867],\"xaxis\":\"x\",\"y\":[3.3471128608923886],\"yaxis\":\"y\",\"type\":\"scatter\"},{\"hovertemplate\":\"beer_style=Cream Ale<br>aroma_mean=%{x}<br>appearance_mean=%{y}<extra></extra>\",\"legendgroup\":\"Cream Ale\",\"marker\":{\"color\":\"#19d3f3\",\"symbol\":\"circle\"},\"mode\":\"markers\",\"name\":\"Cream Ale\",\"orientation\":\"v\",\"showlegend\":true,\"x\":[3.2885363954846243],\"xaxis\":\"x\",\"y\":[3.5129427792915533],\"yaxis\":\"y\",\"type\":\"scatter\"},{\"hovertemplate\":\"beer_style=Czech Pilsener<br>aroma_mean=%{x}<br>appearance_mean=%{y}<extra></extra>\",\"legendgroup\":\"Czech Pilsener\",\"marker\":{\"color\":\"#FF6692\",\"symbol\":\"circle\"},\"mode\":\"markers\",\"name\":\"Czech Pilsener\",\"orientation\":\"v\",\"showlegend\":true,\"x\":[3.4442700156985873],\"xaxis\":\"x\",\"y\":[3.64105180533752],\"yaxis\":\"y\",\"type\":\"scatter\"},{\"hovertemplate\":\"beer_style=Doppelbock<br>aroma_mean=%{x}<br>appearance_mean=%{y}<extra></extra>\",\"legendgroup\":\"Doppelbock\",\"marker\":{\"color\":\"#B6E880\",\"symbol\":\"circle\"},\"mode\":\"markers\",\"name\":\"Doppelbock\",\"orientation\":\"v\",\"showlegend\":true,\"x\":[3.858634038434951],\"xaxis\":\"x\",\"y\":[3.909765426978202],\"yaxis\":\"y\",\"type\":\"scatter\"},{\"hovertemplate\":\"beer_style=Dortmunder / Export Lager<br>aroma_mean=%{x}<br>appearance_mean=%{y}<extra></extra>\",\"legendgroup\":\"Dortmunder / Export Lager\",\"marker\":{\"color\":\"#FF97FF\",\"symbol\":\"circle\"},\"mode\":\"markers\",\"name\":\"Dortmunder / Export Lager\",\"orientation\":\"v\",\"showlegend\":true,\"x\":[3.46509009009009],\"xaxis\":\"x\",\"y\":[3.686599099099099],\"yaxis\":\"y\",\"type\":\"scatter\"},{\"hovertemplate\":\"beer_style=Dubbel<br>aroma_mean=%{x}<br>appearance_mean=%{y}<extra></extra>\",\"legendgroup\":\"Dubbel\",\"marker\":{\"color\":\"#FECB52\",\"symbol\":\"circle\"},\"mode\":\"markers\",\"name\":\"Dubbel\",\"orientation\":\"v\",\"showlegend\":true,\"x\":[3.9003903317820146],\"xaxis\":\"x\",\"y\":[4.0],\"yaxis\":\"y\",\"type\":\"scatter\"},{\"hovertemplate\":\"beer_style=Dunkelweizen<br>aroma_mean=%{x}<br>appearance_mean=%{y}<extra></extra>\",\"legendgroup\":\"Dunkelweizen\",\"marker\":{\"color\":\"#636efa\",\"symbol\":\"circle\"},\"mode\":\"markers\",\"name\":\"Dunkelweizen\",\"orientation\":\"v\",\"showlegend\":true,\"x\":[3.7398202752035945],\"xaxis\":\"x\",\"y\":[3.8724375175512495],\"yaxis\":\"y\",\"type\":\"scatter\"},{\"hovertemplate\":\"beer_style=Eisbock<br>aroma_mean=%{x}<br>appearance_mean=%{y}<extra></extra>\",\"legendgroup\":\"Eisbock\",\"marker\":{\"color\":\"#EF553B\",\"symbol\":\"circle\"},\"mode\":\"markers\",\"name\":\"Eisbock\",\"orientation\":\"v\",\"showlegend\":true,\"x\":[4.156778069846038],\"xaxis\":\"x\",\"y\":[3.964513706346226],\"yaxis\":\"y\",\"type\":\"scatter\"},{\"hovertemplate\":\"beer_style=English Barleywine<br>aroma_mean=%{x}<br>appearance_mean=%{y}<extra></extra>\",\"legendgroup\":\"English Barleywine\",\"marker\":{\"color\":\"#00cc96\",\"symbol\":\"circle\"},\"mode\":\"markers\",\"name\":\"English Barleywine\",\"orientation\":\"v\",\"showlegend\":true,\"x\":[3.9713786322918945],\"xaxis\":\"x\",\"y\":[3.9086009758939624],\"yaxis\":\"y\",\"type\":\"scatter\"},{\"hovertemplate\":\"beer_style=English Bitter<br>aroma_mean=%{x}<br>appearance_mean=%{y}<extra></extra>\",\"legendgroup\":\"English Bitter\",\"marker\":{\"color\":\"#ab63fa\",\"symbol\":\"circle\"},\"mode\":\"markers\",\"name\":\"English Bitter\",\"orientation\":\"v\",\"showlegend\":true,\"x\":[3.5175258905200866],\"xaxis\":\"x\",\"y\":[3.746443609878229],\"yaxis\":\"y\",\"type\":\"scatter\"},{\"hovertemplate\":\"beer_style=English Brown Ale<br>aroma_mean=%{x}<br>appearance_mean=%{y}<extra></extra>\",\"legendgroup\":\"English Brown Ale\",\"marker\":{\"color\":\"#FFA15A\",\"symbol\":\"circle\"},\"mode\":\"markers\",\"name\":\"English Brown Ale\",\"orientation\":\"v\",\"showlegend\":true,\"x\":[3.5492781077206637],\"xaxis\":\"x\",\"y\":[3.733667827155437],\"yaxis\":\"y\",\"type\":\"scatter\"},{\"hovertemplate\":\"beer_style=English Dark Mild Ale<br>aroma_mean=%{x}<br>appearance_mean=%{y}<extra></extra>\",\"legendgroup\":\"English Dark Mild Ale\",\"marker\":{\"color\":\"#19d3f3\",\"symbol\":\"circle\"},\"mode\":\"markers\",\"name\":\"English Dark Mild Ale\",\"orientation\":\"v\",\"showlegend\":true,\"x\":[3.5360847018150388],\"xaxis\":\"x\",\"y\":[3.7484874675885913],\"yaxis\":\"y\",\"type\":\"scatter\"},{\"hovertemplate\":\"beer_style=English India Pale Ale (IPA)<br>aroma_mean=%{x}<br>appearance_mean=%{y}<extra></extra>\",\"legendgroup\":\"English India Pale Ale (IPA)\",\"marker\":{\"color\":\"#FF6692\",\"symbol\":\"circle\"},\"mode\":\"markers\",\"name\":\"English India Pale Ale (IPA)\",\"orientation\":\"v\",\"showlegend\":true,\"x\":[3.5664515320508805],\"xaxis\":\"x\",\"y\":[3.7609186039225517],\"yaxis\":\"y\",\"type\":\"scatter\"},{\"hovertemplate\":\"beer_style=English Pale Ale<br>aroma_mean=%{x}<br>appearance_mean=%{y}<extra></extra>\",\"legendgroup\":\"English Pale Ale\",\"marker\":{\"color\":\"#B6E880\",\"symbol\":\"circle\"},\"mode\":\"markers\",\"name\":\"English Pale Ale\",\"orientation\":\"v\",\"showlegend\":true,\"x\":[3.4206264421844286],\"xaxis\":\"x\",\"y\":[3.6958806939577813],\"yaxis\":\"y\",\"type\":\"scatter\"},{\"hovertemplate\":\"beer_style=English Pale Mild Ale<br>aroma_mean=%{x}<br>appearance_mean=%{y}<extra></extra>\",\"legendgroup\":\"English Pale Mild Ale\",\"marker\":{\"color\":\"#FF97FF\",\"symbol\":\"circle\"},\"mode\":\"markers\",\"name\":\"English Pale Mild Ale\",\"orientation\":\"v\",\"showlegend\":true,\"x\":[3.3921428571428573],\"xaxis\":\"x\",\"y\":[3.545714285714286],\"yaxis\":\"y\",\"type\":\"scatter\"},{\"hovertemplate\":\"beer_style=English Porter<br>aroma_mean=%{x}<br>appearance_mean=%{y}<extra></extra>\",\"legendgroup\":\"English Porter\",\"marker\":{\"color\":\"#FECB52\",\"symbol\":\"circle\"},\"mode\":\"markers\",\"name\":\"English Porter\",\"orientation\":\"v\",\"showlegend\":true,\"x\":[3.841651785714286],\"xaxis\":\"x\",\"y\":[3.935446428571429],\"yaxis\":\"y\",\"type\":\"scatter\"},{\"hovertemplate\":\"beer_style=English Stout<br>aroma_mean=%{x}<br>appearance_mean=%{y}<extra></extra>\",\"legendgroup\":\"English Stout\",\"marker\":{\"color\":\"#636efa\",\"symbol\":\"circle\"},\"mode\":\"markers\",\"name\":\"English Stout\",\"orientation\":\"v\",\"showlegend\":true,\"x\":[3.650596421471173],\"xaxis\":\"x\",\"y\":[3.8841948310139167],\"yaxis\":\"y\",\"type\":\"scatter\"},{\"hovertemplate\":\"beer_style=English Strong Ale<br>aroma_mean=%{x}<br>appearance_mean=%{y}<extra></extra>\",\"legendgroup\":\"English Strong Ale\",\"marker\":{\"color\":\"#EF553B\",\"symbol\":\"circle\"},\"mode\":\"markers\",\"name\":\"English Strong Ale\",\"orientation\":\"v\",\"showlegend\":true,\"x\":[3.749426963950823],\"xaxis\":\"x\",\"y\":[3.8524692644300895],\"yaxis\":\"y\",\"type\":\"scatter\"},{\"hovertemplate\":\"beer_style=Euro Dark Lager<br>aroma_mean=%{x}<br>appearance_mean=%{y}<extra></extra>\",\"legendgroup\":\"Euro Dark Lager\",\"marker\":{\"color\":\"#00cc96\",\"symbol\":\"circle\"},\"mode\":\"markers\",\"name\":\"Euro Dark Lager\",\"orientation\":\"v\",\"showlegend\":true,\"x\":[3.2684131415074082],\"xaxis\":\"x\",\"y\":[3.5945887910672107],\"yaxis\":\"y\",\"type\":\"scatter\"},{\"hovertemplate\":\"beer_style=Euro Pale Lager<br>aroma_mean=%{x}<br>appearance_mean=%{y}<extra></extra>\",\"legendgroup\":\"Euro Pale Lager\",\"marker\":{\"color\":\"#ab63fa\",\"symbol\":\"circle\"},\"mode\":\"markers\",\"name\":\"Euro Pale Lager\",\"orientation\":\"v\",\"showlegend\":true,\"x\":[2.8470718845406604],\"xaxis\":\"x\",\"y\":[3.170024979184013],\"yaxis\":\"y\",\"type\":\"scatter\"},{\"hovertemplate\":\"beer_style=Euro Strong Lager<br>aroma_mean=%{x}<br>appearance_mean=%{y}<extra></extra>\",\"legendgroup\":\"Euro Strong Lager\",\"marker\":{\"color\":\"#FFA15A\",\"symbol\":\"circle\"},\"mode\":\"markers\",\"name\":\"Euro Strong Lager\",\"orientation\":\"v\",\"showlegend\":true,\"x\":[2.8724302496328926],\"xaxis\":\"x\",\"y\":[3.2294419970631423],\"yaxis\":\"y\",\"type\":\"scatter\"},{\"hovertemplate\":\"beer_style=Extra Special / Strong Bitter (ESB)<br>aroma_mean=%{x}<br>appearance_mean=%{y}<extra></extra>\",\"legendgroup\":\"Extra Special / Strong Bitter (ESB)\",\"marker\":{\"color\":\"#19d3f3\",\"symbol\":\"circle\"},\"mode\":\"markers\",\"name\":\"Extra Special / Strong Bitter (ESB)\",\"orientation\":\"v\",\"showlegend\":true,\"x\":[3.6405124331861494],\"xaxis\":\"x\",\"y\":[3.833284917499419],\"yaxis\":\"y\",\"type\":\"scatter\"},{\"hovertemplate\":\"beer_style=Faro<br>aroma_mean=%{x}<br>appearance_mean=%{y}<extra></extra>\",\"legendgroup\":\"Faro\",\"marker\":{\"color\":\"#FF6692\",\"symbol\":\"circle\"},\"mode\":\"markers\",\"name\":\"Faro\",\"orientation\":\"v\",\"showlegend\":true,\"x\":[3.6789819376026274],\"xaxis\":\"x\",\"y\":[3.7545155993431854],\"yaxis\":\"y\",\"type\":\"scatter\"},{\"hovertemplate\":\"beer_style=Flanders Oud Bruin<br>aroma_mean=%{x}<br>appearance_mean=%{y}<extra></extra>\",\"legendgroup\":\"Flanders Oud Bruin\",\"marker\":{\"color\":\"#B6E880\",\"symbol\":\"circle\"},\"mode\":\"markers\",\"name\":\"Flanders Oud Bruin\",\"orientation\":\"v\",\"showlegend\":true,\"x\":[3.9374374374374375],\"xaxis\":\"x\",\"y\":[3.8997997997998],\"yaxis\":\"y\",\"type\":\"scatter\"},{\"hovertemplate\":\"beer_style=Flanders Red Ale<br>aroma_mean=%{x}<br>appearance_mean=%{y}<extra></extra>\",\"legendgroup\":\"Flanders Red Ale\",\"marker\":{\"color\":\"#FF97FF\",\"symbol\":\"circle\"},\"mode\":\"markers\",\"name\":\"Flanders Red Ale\",\"orientation\":\"v\",\"showlegend\":true,\"x\":[4.044042617046819],\"xaxis\":\"x\",\"y\":[4.001800720288116],\"yaxis\":\"y\",\"type\":\"scatter\"},{\"hovertemplate\":\"beer_style=Foreign / Export Stout<br>aroma_mean=%{x}<br>appearance_mean=%{y}<extra></extra>\",\"legendgroup\":\"Foreign / Export Stout\",\"marker\":{\"color\":\"#FECB52\",\"symbol\":\"circle\"},\"mode\":\"markers\",\"name\":\"Foreign / Export Stout\",\"orientation\":\"v\",\"showlegend\":true,\"x\":[3.828365706630944],\"xaxis\":\"x\",\"y\":[4.03901540522438],\"yaxis\":\"y\",\"type\":\"scatter\"},{\"hovertemplate\":\"beer_style=Fruit / Vegetable Beer<br>aroma_mean=%{x}<br>appearance_mean=%{y}<extra></extra>\",\"legendgroup\":\"Fruit / Vegetable Beer\",\"marker\":{\"color\":\"#636efa\",\"symbol\":\"circle\"},\"mode\":\"markers\",\"name\":\"Fruit / Vegetable Beer\",\"orientation\":\"v\",\"showlegend\":true,\"x\":[3.5255603791973065],\"xaxis\":\"x\",\"y\":[3.5179852928147426],\"yaxis\":\"y\",\"type\":\"scatter\"},{\"hovertemplate\":\"beer_style=German Pilsener<br>aroma_mean=%{x}<br>appearance_mean=%{y}<extra></extra>\",\"legendgroup\":\"German Pilsener\",\"marker\":{\"color\":\"#EF553B\",\"symbol\":\"circle\"},\"mode\":\"markers\",\"name\":\"German Pilsener\",\"orientation\":\"v\",\"showlegend\":true,\"x\":[3.387158654931167],\"xaxis\":\"x\",\"y\":[3.5724441435341907],\"yaxis\":\"y\",\"type\":\"scatter\"},{\"hovertemplate\":\"beer_style=Gose<br>aroma_mean=%{x}<br>appearance_mean=%{y}<extra></extra>\",\"legendgroup\":\"Gose\",\"marker\":{\"color\":\"#00cc96\",\"symbol\":\"circle\"},\"mode\":\"markers\",\"name\":\"Gose\",\"orientation\":\"v\",\"showlegend\":true,\"x\":[3.7835276967930027],\"xaxis\":\"x\",\"y\":[3.9081632653061225],\"yaxis\":\"y\",\"type\":\"scatter\"},{\"hovertemplate\":\"beer_style=Gueuze<br>aroma_mean=%{x}<br>appearance_mean=%{y}<extra></extra>\",\"legendgroup\":\"Gueuze\",\"marker\":{\"color\":\"#ab63fa\",\"symbol\":\"circle\"},\"mode\":\"markers\",\"name\":\"Gueuze\",\"orientation\":\"v\",\"showlegend\":true,\"x\":[4.117573639540689],\"xaxis\":\"x\",\"y\":[4.0348643701114995],\"yaxis\":\"y\",\"type\":\"scatter\"},{\"hovertemplate\":\"beer_style=Happoshu<br>aroma_mean=%{x}<br>appearance_mean=%{y}<extra></extra>\",\"legendgroup\":\"Happoshu\",\"marker\":{\"color\":\"#FFA15A\",\"symbol\":\"circle\"},\"mode\":\"markers\",\"name\":\"Happoshu\",\"orientation\":\"v\",\"showlegend\":true,\"x\":[2.595435684647303],\"xaxis\":\"x\",\"y\":[2.925311203319502],\"yaxis\":\"y\",\"type\":\"scatter\"},{\"hovertemplate\":\"beer_style=Hefeweizen<br>aroma_mean=%{x}<br>appearance_mean=%{y}<extra></extra>\",\"legendgroup\":\"Hefeweizen\",\"marker\":{\"color\":\"#19d3f3\",\"symbol\":\"circle\"},\"mode\":\"markers\",\"name\":\"Hefeweizen\",\"orientation\":\"v\",\"showlegend\":true,\"x\":[3.7617349863838325],\"xaxis\":\"x\",\"y\":[3.8282929625913718],\"yaxis\":\"y\",\"type\":\"scatter\"},{\"hovertemplate\":\"beer_style=Herbed / Spiced Beer<br>aroma_mean=%{x}<br>appearance_mean=%{y}<extra></extra>\",\"legendgroup\":\"Herbed / Spiced Beer\",\"marker\":{\"color\":\"#FF6692\",\"symbol\":\"circle\"},\"mode\":\"markers\",\"name\":\"Herbed / Spiced Beer\",\"orientation\":\"v\",\"showlegend\":true,\"x\":[3.572264680274741],\"xaxis\":\"x\",\"y\":[3.6002225016929477],\"yaxis\":\"y\",\"type\":\"scatter\"},{\"hovertemplate\":\"beer_style=Irish Dry Stout<br>aroma_mean=%{x}<br>appearance_mean=%{y}<extra></extra>\",\"legendgroup\":\"Irish Dry Stout\",\"marker\":{\"color\":\"#B6E880\",\"symbol\":\"circle\"},\"mode\":\"markers\",\"name\":\"Irish Dry Stout\",\"orientation\":\"v\",\"showlegend\":true,\"x\":[3.55005954743946],\"xaxis\":\"x\",\"y\":[4.035569670504168],\"yaxis\":\"y\",\"type\":\"scatter\"},{\"hovertemplate\":\"beer_style=Irish Red Ale<br>aroma_mean=%{x}<br>appearance_mean=%{y}<extra></extra>\",\"legendgroup\":\"Irish Red Ale\",\"marker\":{\"color\":\"#FF97FF\",\"symbol\":\"circle\"},\"mode\":\"markers\",\"name\":\"Irish Red Ale\",\"orientation\":\"v\",\"showlegend\":true,\"x\":[3.424971435825822],\"xaxis\":\"x\",\"y\":[3.763869493461978],\"yaxis\":\"y\",\"type\":\"scatter\"},{\"hovertemplate\":\"beer_style=Japanese Rice Lager<br>aroma_mean=%{x}<br>appearance_mean=%{y}<extra></extra>\",\"legendgroup\":\"Japanese Rice Lager\",\"marker\":{\"color\":\"#FECB52\",\"symbol\":\"circle\"},\"mode\":\"markers\",\"name\":\"Japanese Rice Lager\",\"orientation\":\"v\",\"showlegend\":true,\"x\":[2.6503880983182406],\"xaxis\":\"x\",\"y\":[2.9964424320827945],\"yaxis\":\"y\",\"type\":\"scatter\"},{\"hovertemplate\":\"beer_style=Keller Bier / Zwickel Bier<br>aroma_mean=%{x}<br>appearance_mean=%{y}<extra></extra>\",\"legendgroup\":\"Keller Bier / Zwickel Bier\",\"marker\":{\"color\":\"#636efa\",\"symbol\":\"circle\"},\"mode\":\"markers\",\"name\":\"Keller Bier / Zwickel Bier\",\"orientation\":\"v\",\"showlegend\":true,\"x\":[3.6800463141644153],\"xaxis\":\"x\",\"y\":[3.8419529139328445],\"yaxis\":\"y\",\"type\":\"scatter\"},{\"hovertemplate\":\"beer_style=Kristalweizen<br>aroma_mean=%{x}<br>appearance_mean=%{y}<extra></extra>\",\"legendgroup\":\"Kristalweizen\",\"marker\":{\"color\":\"#EF553B\",\"symbol\":\"circle\"},\"mode\":\"markers\",\"name\":\"Kristalweizen\",\"orientation\":\"v\",\"showlegend\":true,\"x\":[3.443738656987296],\"xaxis\":\"x\",\"y\":[3.632032667876588],\"yaxis\":\"y\",\"type\":\"scatter\"},{\"hovertemplate\":\"beer_style=Kvass<br>aroma_mean=%{x}<br>appearance_mean=%{y}<extra></extra>\",\"legendgroup\":\"Kvass\",\"marker\":{\"color\":\"#00cc96\",\"symbol\":\"circle\"},\"mode\":\"markers\",\"name\":\"Kvass\",\"orientation\":\"v\",\"showlegend\":true,\"x\":[3.3383838383838382],\"xaxis\":\"x\",\"y\":[3.4764309764309766],\"yaxis\":\"y\",\"type\":\"scatter\"},{\"hovertemplate\":\"beer_style=K\\u00f6lsch<br>aroma_mean=%{x}<br>appearance_mean=%{y}<extra></extra>\",\"legendgroup\":\"K\\u00f6lsch\",\"marker\":{\"color\":\"#ab63fa\",\"symbol\":\"circle\"},\"mode\":\"markers\",\"name\":\"K\\u00f6lsch\",\"orientation\":\"v\",\"showlegend\":true,\"x\":[3.3932717365553184],\"xaxis\":\"x\",\"y\":[3.5621890547263684],\"yaxis\":\"y\",\"type\":\"scatter\"},{\"hovertemplate\":\"beer_style=Lambic - Fruit<br>aroma_mean=%{x}<br>appearance_mean=%{y}<extra></extra>\",\"legendgroup\":\"Lambic - Fruit\",\"marker\":{\"color\":\"#FFA15A\",\"symbol\":\"circle\"},\"mode\":\"markers\",\"name\":\"Lambic - Fruit\",\"orientation\":\"v\",\"showlegend\":true,\"x\":[3.975890410958904],\"xaxis\":\"x\",\"y\":[3.9650228310502285],\"yaxis\":\"y\",\"type\":\"scatter\"},{\"hovertemplate\":\"beer_style=Lambic - Unblended<br>aroma_mean=%{x}<br>appearance_mean=%{y}<extra></extra>\",\"legendgroup\":\"Lambic - Unblended\",\"marker\":{\"color\":\"#19d3f3\",\"symbol\":\"circle\"},\"mode\":\"markers\",\"name\":\"Lambic - Unblended\",\"orientation\":\"v\",\"showlegend\":true,\"x\":[4.118043087971275],\"xaxis\":\"x\",\"y\":[3.9124775583482942],\"yaxis\":\"y\",\"type\":\"scatter\"},{\"hovertemplate\":\"beer_style=Light Lager<br>aroma_mean=%{x}<br>appearance_mean=%{y}<extra></extra>\",\"legendgroup\":\"Light Lager\",\"marker\":{\"color\":\"#FF6692\",\"symbol\":\"circle\"},\"mode\":\"markers\",\"name\":\"Light Lager\",\"orientation\":\"v\",\"showlegend\":true,\"x\":[2.170009083921459],\"xaxis\":\"x\",\"y\":[2.4293899797358676],\"yaxis\":\"y\",\"type\":\"scatter\"},{\"hovertemplate\":\"beer_style=Low Alcohol Beer<br>aroma_mean=%{x}<br>appearance_mean=%{y}<extra></extra>\",\"legendgroup\":\"Low Alcohol Beer\",\"marker\":{\"color\":\"#B6E880\",\"symbol\":\"circle\"},\"mode\":\"markers\",\"name\":\"Low Alcohol Beer\",\"orientation\":\"v\",\"showlegend\":true,\"x\":[2.4633638634471273],\"xaxis\":\"x\",\"y\":[2.9175686927560367],\"yaxis\":\"y\",\"type\":\"scatter\"},{\"hovertemplate\":\"beer_style=Maibock / Helles Bock<br>aroma_mean=%{x}<br>appearance_mean=%{y}<extra></extra>\",\"legendgroup\":\"Maibock / Helles Bock\",\"marker\":{\"color\":\"#FF97FF\",\"symbol\":\"circle\"},\"mode\":\"markers\",\"name\":\"Maibock / Helles Bock\",\"orientation\":\"v\",\"showlegend\":true,\"x\":[3.6204410517387617],\"xaxis\":\"x\",\"y\":[3.7802280652153426],\"yaxis\":\"y\",\"type\":\"scatter\"},{\"hovertemplate\":\"beer_style=Milk / Sweet Stout<br>aroma_mean=%{x}<br>appearance_mean=%{y}<extra></extra>\",\"legendgroup\":\"Milk / Sweet Stout\",\"marker\":{\"color\":\"#FECB52\",\"symbol\":\"circle\"},\"mode\":\"markers\",\"name\":\"Milk / Sweet Stout\",\"orientation\":\"v\",\"showlegend\":true,\"x\":[3.8327130487619625],\"xaxis\":\"x\",\"y\":[3.9609220720036458],\"yaxis\":\"y\",\"type\":\"scatter\"},{\"hovertemplate\":\"beer_style=Munich Dunkel Lager<br>aroma_mean=%{x}<br>appearance_mean=%{y}<extra></extra>\",\"legendgroup\":\"Munich Dunkel Lager\",\"marker\":{\"color\":\"#636efa\",\"symbol\":\"circle\"},\"mode\":\"markers\",\"name\":\"Munich Dunkel Lager\",\"orientation\":\"v\",\"showlegend\":true,\"x\":[3.450761868782269],\"xaxis\":\"x\",\"y\":[3.6846744742475757],\"yaxis\":\"y\",\"type\":\"scatter\"},{\"hovertemplate\":\"beer_style=Munich Helles Lager<br>aroma_mean=%{x}<br>appearance_mean=%{y}<extra></extra>\",\"legendgroup\":\"Munich Helles Lager\",\"marker\":{\"color\":\"#EF553B\",\"symbol\":\"circle\"},\"mode\":\"markers\",\"name\":\"Munich Helles Lager\",\"orientation\":\"v\",\"showlegend\":true,\"x\":[3.4695044472681067],\"xaxis\":\"x\",\"y\":[3.6189961880559087],\"yaxis\":\"y\",\"type\":\"scatter\"},{\"hovertemplate\":\"beer_style=M\\u00e4rzen / Oktoberfest<br>aroma_mean=%{x}<br>appearance_mean=%{y}<extra></extra>\",\"legendgroup\":\"M\\u00e4rzen / Oktoberfest\",\"marker\":{\"color\":\"#00cc96\",\"symbol\":\"circle\"},\"mode\":\"markers\",\"name\":\"M\\u00e4rzen / Oktoberfest\",\"orientation\":\"v\",\"showlegend\":true,\"x\":[3.504697530076946],\"xaxis\":\"x\",\"y\":[3.7199124261361223],\"yaxis\":\"y\",\"type\":\"scatter\"},{\"hovertemplate\":\"beer_style=Oatmeal Stout<br>aroma_mean=%{x}<br>appearance_mean=%{y}<extra></extra>\",\"legendgroup\":\"Oatmeal Stout\",\"marker\":{\"color\":\"#ab63fa\",\"symbol\":\"circle\"},\"mode\":\"markers\",\"name\":\"Oatmeal Stout\",\"orientation\":\"v\",\"showlegend\":true,\"x\":[3.8530449159548086],\"xaxis\":\"x\",\"y\":[4.012124552218242],\"yaxis\":\"y\",\"type\":\"scatter\"},{\"hovertemplate\":\"beer_style=Old Ale<br>aroma_mean=%{x}<br>appearance_mean=%{y}<extra></extra>\",\"legendgroup\":\"Old Ale\",\"marker\":{\"color\":\"#FFA15A\",\"symbol\":\"circle\"},\"mode\":\"markers\",\"name\":\"Old Ale\",\"orientation\":\"v\",\"showlegend\":true,\"x\":[4.00727742637557],\"xaxis\":\"x\",\"y\":[3.9419846289872815],\"yaxis\":\"y\",\"type\":\"scatter\"},{\"hovertemplate\":\"beer_style=Pumpkin Ale<br>aroma_mean=%{x}<br>appearance_mean=%{y}<extra></extra>\",\"legendgroup\":\"Pumpkin Ale\",\"marker\":{\"color\":\"#19d3f3\",\"symbol\":\"circle\"},\"mode\":\"markers\",\"name\":\"Pumpkin Ale\",\"orientation\":\"v\",\"showlegend\":true,\"x\":[3.7544694533762057],\"xaxis\":\"x\",\"y\":[3.6754019292604503],\"yaxis\":\"y\",\"type\":\"scatter\"},{\"hovertemplate\":\"beer_style=Quadrupel (Quad)<br>aroma_mean=%{x}<br>appearance_mean=%{y}<extra></extra>\",\"legendgroup\":\"Quadrupel (Quad)\",\"marker\":{\"color\":\"#FF6692\",\"symbol\":\"circle\"},\"mode\":\"markers\",\"name\":\"Quadrupel (Quad)\",\"orientation\":\"v\",\"showlegend\":true,\"x\":[4.132533451288289],\"xaxis\":\"x\",\"y\":[4.1179641711821295],\"yaxis\":\"y\",\"type\":\"scatter\"},{\"hovertemplate\":\"beer_style=Rauchbier<br>aroma_mean=%{x}<br>appearance_mean=%{y}<extra></extra>\",\"legendgroup\":\"Rauchbier\",\"marker\":{\"color\":\"#B6E880\",\"symbol\":\"circle\"},\"mode\":\"markers\",\"name\":\"Rauchbier\",\"orientation\":\"v\",\"showlegend\":true,\"x\":[3.9467440686521957],\"xaxis\":\"x\",\"y\":[3.8687531549722363],\"yaxis\":\"y\",\"type\":\"scatter\"},{\"hovertemplate\":\"beer_style=Roggenbier<br>aroma_mean=%{x}<br>appearance_mean=%{y}<extra></extra>\",\"legendgroup\":\"Roggenbier\",\"marker\":{\"color\":\"#FF97FF\",\"symbol\":\"circle\"},\"mode\":\"markers\",\"name\":\"Roggenbier\",\"orientation\":\"v\",\"showlegend\":true,\"x\":[3.834763948497854],\"xaxis\":\"x\",\"y\":[3.8240343347639487],\"yaxis\":\"y\",\"type\":\"scatter\"},{\"hovertemplate\":\"beer_style=Russian Imperial Stout<br>aroma_mean=%{x}<br>appearance_mean=%{y}<extra></extra>\",\"legendgroup\":\"Russian Imperial Stout\",\"marker\":{\"color\":\"#FECB52\",\"symbol\":\"circle\"},\"mode\":\"markers\",\"name\":\"Russian Imperial Stout\",\"orientation\":\"v\",\"showlegend\":true,\"x\":[4.076576326922722],\"xaxis\":\"x\",\"y\":[4.210072234846385],\"yaxis\":\"y\",\"type\":\"scatter\"},{\"hovertemplate\":\"beer_style=Rye Beer<br>aroma_mean=%{x}<br>appearance_mean=%{y}<extra></extra>\",\"legendgroup\":\"Rye Beer\",\"marker\":{\"color\":\"#636efa\",\"symbol\":\"circle\"},\"mode\":\"markers\",\"name\":\"Rye Beer\",\"orientation\":\"v\",\"showlegend\":true,\"x\":[3.8938302073050344],\"xaxis\":\"x\",\"y\":[4.0015301085883515],\"yaxis\":\"y\",\"type\":\"scatter\"},{\"hovertemplate\":\"beer_style=Sahti<br>aroma_mean=%{x}<br>appearance_mean=%{y}<extra></extra>\",\"legendgroup\":\"Sahti\",\"marker\":{\"color\":\"#EF553B\",\"symbol\":\"circle\"},\"mode\":\"markers\",\"name\":\"Sahti\",\"orientation\":\"v\",\"showlegend\":true,\"x\":[3.8279924599434496],\"xaxis\":\"x\",\"y\":[3.655984919886899],\"yaxis\":\"y\",\"type\":\"scatter\"},{\"hovertemplate\":\"beer_style=Saison / Farmhouse Ale<br>aroma_mean=%{x}<br>appearance_mean=%{y}<extra></extra>\",\"legendgroup\":\"Saison / Farmhouse Ale\",\"marker\":{\"color\":\"#00cc96\",\"symbol\":\"circle\"},\"mode\":\"markers\",\"name\":\"Saison / Farmhouse Ale\",\"orientation\":\"v\",\"showlegend\":true,\"x\":[3.9320362134688693],\"xaxis\":\"x\",\"y\":[3.997522236340534],\"yaxis\":\"y\",\"type\":\"scatter\"},{\"hovertemplate\":\"beer_style=Schwarzbier<br>aroma_mean=%{x}<br>appearance_mean=%{y}<extra></extra>\",\"legendgroup\":\"Schwarzbier\",\"marker\":{\"color\":\"#ab63fa\",\"symbol\":\"circle\"},\"mode\":\"markers\",\"name\":\"Schwarzbier\",\"orientation\":\"v\",\"showlegend\":true,\"x\":[3.6178506004477917],\"xaxis\":\"x\",\"y\":[3.870700183187462],\"yaxis\":\"y\",\"type\":\"scatter\"},{\"hovertemplate\":\"beer_style=Scotch Ale / Wee Heavy<br>aroma_mean=%{x}<br>appearance_mean=%{y}<extra></extra>\",\"legendgroup\":\"Scotch Ale / Wee Heavy\",\"marker\":{\"color\":\"#FFA15A\",\"symbol\":\"circle\"},\"mode\":\"markers\",\"name\":\"Scotch Ale / Wee Heavy\",\"orientation\":\"v\",\"showlegend\":true,\"x\":[3.8750071670202395],\"xaxis\":\"x\",\"y\":[3.8935840834814517],\"yaxis\":\"y\",\"type\":\"scatter\"},{\"hovertemplate\":\"beer_style=Scottish Ale<br>aroma_mean=%{x}<br>appearance_mean=%{y}<extra></extra>\",\"legendgroup\":\"Scottish Ale\",\"marker\":{\"color\":\"#19d3f3\",\"symbol\":\"circle\"},\"mode\":\"markers\",\"name\":\"Scottish Ale\",\"orientation\":\"v\",\"showlegend\":true,\"x\":[3.6113544289937587],\"xaxis\":\"x\",\"y\":[3.8063615460418263],\"yaxis\":\"y\",\"type\":\"scatter\"},{\"hovertemplate\":\"beer_style=Scottish Gruit / Ancient Herbed Ale<br>aroma_mean=%{x}<br>appearance_mean=%{y}<extra></extra>\",\"legendgroup\":\"Scottish Gruit / Ancient Herbed Ale\",\"marker\":{\"color\":\"#FF6692\",\"symbol\":\"circle\"},\"mode\":\"markers\",\"name\":\"Scottish Gruit / Ancient Herbed Ale\",\"orientation\":\"v\",\"showlegend\":true,\"x\":[3.7413667757179208],\"xaxis\":\"x\",\"y\":[3.647037440930571],\"yaxis\":\"y\",\"type\":\"scatter\"},{\"hovertemplate\":\"beer_style=Smoked Beer<br>aroma_mean=%{x}<br>appearance_mean=%{y}<extra></extra>\",\"legendgroup\":\"Smoked Beer\",\"marker\":{\"color\":\"#B6E880\",\"symbol\":\"circle\"},\"mode\":\"markers\",\"name\":\"Smoked Beer\",\"orientation\":\"v\",\"showlegend\":true,\"x\":[3.838580040187542],\"xaxis\":\"x\",\"y\":[3.8220026791694575],\"yaxis\":\"y\",\"type\":\"scatter\"},{\"hovertemplate\":\"beer_style=Tripel<br>aroma_mean=%{x}<br>appearance_mean=%{y}<extra></extra>\",\"legendgroup\":\"Tripel\",\"marker\":{\"color\":\"#FF97FF\",\"symbol\":\"circle\"},\"mode\":\"markers\",\"name\":\"Tripel\",\"orientation\":\"v\",\"showlegend\":true,\"x\":[3.913973885518333],\"xaxis\":\"x\",\"y\":[3.9529147982062782],\"yaxis\":\"y\",\"type\":\"scatter\"},{\"hovertemplate\":\"beer_style=Vienna Lager<br>aroma_mean=%{x}<br>appearance_mean=%{y}<extra></extra>\",\"legendgroup\":\"Vienna Lager\",\"marker\":{\"color\":\"#FECB52\",\"symbol\":\"circle\"},\"mode\":\"markers\",\"name\":\"Vienna Lager\",\"orientation\":\"v\",\"showlegend\":true,\"x\":[3.4341076613803887],\"xaxis\":\"x\",\"y\":[3.6983471074380163],\"yaxis\":\"y\",\"type\":\"scatter\"},{\"hovertemplate\":\"beer_style=Weizenbock<br>aroma_mean=%{x}<br>appearance_mean=%{y}<extra></extra>\",\"legendgroup\":\"Weizenbock\",\"marker\":{\"color\":\"#636efa\",\"symbol\":\"circle\"},\"mode\":\"markers\",\"name\":\"Weizenbock\",\"orientation\":\"v\",\"showlegend\":true,\"x\":[4.044677008074798],\"xaxis\":\"x\",\"y\":[4.009296642583935],\"yaxis\":\"y\",\"type\":\"scatter\"},{\"hovertemplate\":\"beer_style=Wheatwine<br>aroma_mean=%{x}<br>appearance_mean=%{y}<extra></extra>\",\"legendgroup\":\"Wheatwine\",\"marker\":{\"color\":\"#EF553B\",\"symbol\":\"circle\"},\"mode\":\"markers\",\"name\":\"Wheatwine\",\"orientation\":\"v\",\"showlegend\":true,\"x\":[3.9690360796984385],\"xaxis\":\"x\",\"y\":[3.907108239095315],\"yaxis\":\"y\",\"type\":\"scatter\"},{\"hovertemplate\":\"beer_style=Winter Warmer<br>aroma_mean=%{x}<br>appearance_mean=%{y}<extra></extra>\",\"legendgroup\":\"Winter Warmer\",\"marker\":{\"color\":\"#00cc96\",\"symbol\":\"circle\"},\"mode\":\"markers\",\"name\":\"Winter Warmer\",\"orientation\":\"v\",\"showlegend\":true,\"x\":[3.7071777745510865],\"xaxis\":\"x\",\"y\":[3.844634819224626],\"yaxis\":\"y\",\"type\":\"scatter\"},{\"hovertemplate\":\"beer_style=Witbier<br>aroma_mean=%{x}<br>appearance_mean=%{y}<extra></extra>\",\"legendgroup\":\"Witbier\",\"marker\":{\"color\":\"#ab63fa\",\"symbol\":\"circle\"},\"mode\":\"markers\",\"name\":\"Witbier\",\"orientation\":\"v\",\"showlegend\":true,\"x\":[3.640875912408759],\"xaxis\":\"x\",\"y\":[3.686695421366954],\"yaxis\":\"y\",\"type\":\"scatter\"}],                        {\"template\":{\"data\":{\"histogram2dcontour\":[{\"type\":\"histogram2dcontour\",\"colorbar\":{\"outlinewidth\":0,\"ticks\":\"\"},\"colorscale\":[[0.0,\"#0d0887\"],[0.1111111111111111,\"#46039f\"],[0.2222222222222222,\"#7201a8\"],[0.3333333333333333,\"#9c179e\"],[0.4444444444444444,\"#bd3786\"],[0.5555555555555556,\"#d8576b\"],[0.6666666666666666,\"#ed7953\"],[0.7777777777777778,\"#fb9f3a\"],[0.8888888888888888,\"#fdca26\"],[1.0,\"#f0f921\"]]}],\"choropleth\":[{\"type\":\"choropleth\",\"colorbar\":{\"outlinewidth\":0,\"ticks\":\"\"}}],\"histogram2d\":[{\"type\":\"histogram2d\",\"colorbar\":{\"outlinewidth\":0,\"ticks\":\"\"},\"colorscale\":[[0.0,\"#0d0887\"],[0.1111111111111111,\"#46039f\"],[0.2222222222222222,\"#7201a8\"],[0.3333333333333333,\"#9c179e\"],[0.4444444444444444,\"#bd3786\"],[0.5555555555555556,\"#d8576b\"],[0.6666666666666666,\"#ed7953\"],[0.7777777777777778,\"#fb9f3a\"],[0.8888888888888888,\"#fdca26\"],[1.0,\"#f0f921\"]]}],\"heatmap\":[{\"type\":\"heatmap\",\"colorbar\":{\"outlinewidth\":0,\"ticks\":\"\"},\"colorscale\":[[0.0,\"#0d0887\"],[0.1111111111111111,\"#46039f\"],[0.2222222222222222,\"#7201a8\"],[0.3333333333333333,\"#9c179e\"],[0.4444444444444444,\"#bd3786\"],[0.5555555555555556,\"#d8576b\"],[0.6666666666666666,\"#ed7953\"],[0.7777777777777778,\"#fb9f3a\"],[0.8888888888888888,\"#fdca26\"],[1.0,\"#f0f921\"]]}],\"heatmapgl\":[{\"type\":\"heatmapgl\",\"colorbar\":{\"outlinewidth\":0,\"ticks\":\"\"},\"colorscale\":[[0.0,\"#0d0887\"],[0.1111111111111111,\"#46039f\"],[0.2222222222222222,\"#7201a8\"],[0.3333333333333333,\"#9c179e\"],[0.4444444444444444,\"#bd3786\"],[0.5555555555555556,\"#d8576b\"],[0.6666666666666666,\"#ed7953\"],[0.7777777777777778,\"#fb9f3a\"],[0.8888888888888888,\"#fdca26\"],[1.0,\"#f0f921\"]]}],\"contourcarpet\":[{\"type\":\"contourcarpet\",\"colorbar\":{\"outlinewidth\":0,\"ticks\":\"\"}}],\"contour\":[{\"type\":\"contour\",\"colorbar\":{\"outlinewidth\":0,\"ticks\":\"\"},\"colorscale\":[[0.0,\"#0d0887\"],[0.1111111111111111,\"#46039f\"],[0.2222222222222222,\"#7201a8\"],[0.3333333333333333,\"#9c179e\"],[0.4444444444444444,\"#bd3786\"],[0.5555555555555556,\"#d8576b\"],[0.6666666666666666,\"#ed7953\"],[0.7777777777777778,\"#fb9f3a\"],[0.8888888888888888,\"#fdca26\"],[1.0,\"#f0f921\"]]}],\"surface\":[{\"type\":\"surface\",\"colorbar\":{\"outlinewidth\":0,\"ticks\":\"\"},\"colorscale\":[[0.0,\"#0d0887\"],[0.1111111111111111,\"#46039f\"],[0.2222222222222222,\"#7201a8\"],[0.3333333333333333,\"#9c179e\"],[0.4444444444444444,\"#bd3786\"],[0.5555555555555556,\"#d8576b\"],[0.6666666666666666,\"#ed7953\"],[0.7777777777777778,\"#fb9f3a\"],[0.8888888888888888,\"#fdca26\"],[1.0,\"#f0f921\"]]}],\"mesh3d\":[{\"type\":\"mesh3d\",\"colorbar\":{\"outlinewidth\":0,\"ticks\":\"\"}}],\"scatter\":[{\"fillpattern\":{\"fillmode\":\"overlay\",\"size\":10,\"solidity\":0.2},\"type\":\"scatter\"}],\"parcoords\":[{\"type\":\"parcoords\",\"line\":{\"colorbar\":{\"outlinewidth\":0,\"ticks\":\"\"}}}],\"scatterpolargl\":[{\"type\":\"scatterpolargl\",\"marker\":{\"colorbar\":{\"outlinewidth\":0,\"ticks\":\"\"}}}],\"bar\":[{\"error_x\":{\"color\":\"#2a3f5f\"},\"error_y\":{\"color\":\"#2a3f5f\"},\"marker\":{\"line\":{\"color\":\"#E5ECF6\",\"width\":0.5},\"pattern\":{\"fillmode\":\"overlay\",\"size\":10,\"solidity\":0.2}},\"type\":\"bar\"}],\"scattergeo\":[{\"type\":\"scattergeo\",\"marker\":{\"colorbar\":{\"outlinewidth\":0,\"ticks\":\"\"}}}],\"scatterpolar\":[{\"type\":\"scatterpolar\",\"marker\":{\"colorbar\":{\"outlinewidth\":0,\"ticks\":\"\"}}}],\"histogram\":[{\"marker\":{\"pattern\":{\"fillmode\":\"overlay\",\"size\":10,\"solidity\":0.2}},\"type\":\"histogram\"}],\"scattergl\":[{\"type\":\"scattergl\",\"marker\":{\"colorbar\":{\"outlinewidth\":0,\"ticks\":\"\"}}}],\"scatter3d\":[{\"type\":\"scatter3d\",\"line\":{\"colorbar\":{\"outlinewidth\":0,\"ticks\":\"\"}},\"marker\":{\"colorbar\":{\"outlinewidth\":0,\"ticks\":\"\"}}}],\"scattermapbox\":[{\"type\":\"scattermapbox\",\"marker\":{\"colorbar\":{\"outlinewidth\":0,\"ticks\":\"\"}}}],\"scatterternary\":[{\"type\":\"scatterternary\",\"marker\":{\"colorbar\":{\"outlinewidth\":0,\"ticks\":\"\"}}}],\"scattercarpet\":[{\"type\":\"scattercarpet\",\"marker\":{\"colorbar\":{\"outlinewidth\":0,\"ticks\":\"\"}}}],\"carpet\":[{\"aaxis\":{\"endlinecolor\":\"#2a3f5f\",\"gridcolor\":\"white\",\"linecolor\":\"white\",\"minorgridcolor\":\"white\",\"startlinecolor\":\"#2a3f5f\"},\"baxis\":{\"endlinecolor\":\"#2a3f5f\",\"gridcolor\":\"white\",\"linecolor\":\"white\",\"minorgridcolor\":\"white\",\"startlinecolor\":\"#2a3f5f\"},\"type\":\"carpet\"}],\"table\":[{\"cells\":{\"fill\":{\"color\":\"#EBF0F8\"},\"line\":{\"color\":\"white\"}},\"header\":{\"fill\":{\"color\":\"#C8D4E3\"},\"line\":{\"color\":\"white\"}},\"type\":\"table\"}],\"barpolar\":[{\"marker\":{\"line\":{\"color\":\"#E5ECF6\",\"width\":0.5},\"pattern\":{\"fillmode\":\"overlay\",\"size\":10,\"solidity\":0.2}},\"type\":\"barpolar\"}],\"pie\":[{\"automargin\":true,\"type\":\"pie\"}]},\"layout\":{\"autotypenumbers\":\"strict\",\"colorway\":[\"#636efa\",\"#EF553B\",\"#00cc96\",\"#ab63fa\",\"#FFA15A\",\"#19d3f3\",\"#FF6692\",\"#B6E880\",\"#FF97FF\",\"#FECB52\"],\"font\":{\"color\":\"#2a3f5f\"},\"hovermode\":\"closest\",\"hoverlabel\":{\"align\":\"left\"},\"paper_bgcolor\":\"white\",\"plot_bgcolor\":\"#E5ECF6\",\"polar\":{\"bgcolor\":\"#E5ECF6\",\"angularaxis\":{\"gridcolor\":\"white\",\"linecolor\":\"white\",\"ticks\":\"\"},\"radialaxis\":{\"gridcolor\":\"white\",\"linecolor\":\"white\",\"ticks\":\"\"}},\"ternary\":{\"bgcolor\":\"#E5ECF6\",\"aaxis\":{\"gridcolor\":\"white\",\"linecolor\":\"white\",\"ticks\":\"\"},\"baxis\":{\"gridcolor\":\"white\",\"linecolor\":\"white\",\"ticks\":\"\"},\"caxis\":{\"gridcolor\":\"white\",\"linecolor\":\"white\",\"ticks\":\"\"}},\"coloraxis\":{\"colorbar\":{\"outlinewidth\":0,\"ticks\":\"\"}},\"colorscale\":{\"sequential\":[[0.0,\"#0d0887\"],[0.1111111111111111,\"#46039f\"],[0.2222222222222222,\"#7201a8\"],[0.3333333333333333,\"#9c179e\"],[0.4444444444444444,\"#bd3786\"],[0.5555555555555556,\"#d8576b\"],[0.6666666666666666,\"#ed7953\"],[0.7777777777777778,\"#fb9f3a\"],[0.8888888888888888,\"#fdca26\"],[1.0,\"#f0f921\"]],\"sequentialminus\":[[0.0,\"#0d0887\"],[0.1111111111111111,\"#46039f\"],[0.2222222222222222,\"#7201a8\"],[0.3333333333333333,\"#9c179e\"],[0.4444444444444444,\"#bd3786\"],[0.5555555555555556,\"#d8576b\"],[0.6666666666666666,\"#ed7953\"],[0.7777777777777778,\"#fb9f3a\"],[0.8888888888888888,\"#fdca26\"],[1.0,\"#f0f921\"]],\"diverging\":[[0,\"#8e0152\"],[0.1,\"#c51b7d\"],[0.2,\"#de77ae\"],[0.3,\"#f1b6da\"],[0.4,\"#fde0ef\"],[0.5,\"#f7f7f7\"],[0.6,\"#e6f5d0\"],[0.7,\"#b8e186\"],[0.8,\"#7fbc41\"],[0.9,\"#4d9221\"],[1,\"#276419\"]]},\"xaxis\":{\"gridcolor\":\"white\",\"linecolor\":\"white\",\"ticks\":\"\",\"title\":{\"standoff\":15},\"zerolinecolor\":\"white\",\"automargin\":true,\"zerolinewidth\":2},\"yaxis\":{\"gridcolor\":\"white\",\"linecolor\":\"white\",\"ticks\":\"\",\"title\":{\"standoff\":15},\"zerolinecolor\":\"white\",\"automargin\":true,\"zerolinewidth\":2},\"scene\":{\"xaxis\":{\"backgroundcolor\":\"#E5ECF6\",\"gridcolor\":\"white\",\"linecolor\":\"white\",\"showbackground\":true,\"ticks\":\"\",\"zerolinecolor\":\"white\",\"gridwidth\":2},\"yaxis\":{\"backgroundcolor\":\"#E5ECF6\",\"gridcolor\":\"white\",\"linecolor\":\"white\",\"showbackground\":true,\"ticks\":\"\",\"zerolinecolor\":\"white\",\"gridwidth\":2},\"zaxis\":{\"backgroundcolor\":\"#E5ECF6\",\"gridcolor\":\"white\",\"linecolor\":\"white\",\"showbackground\":true,\"ticks\":\"\",\"zerolinecolor\":\"white\",\"gridwidth\":2}},\"shapedefaults\":{\"line\":{\"color\":\"#2a3f5f\"}},\"annotationdefaults\":{\"arrowcolor\":\"#2a3f5f\",\"arrowhead\":0,\"arrowwidth\":1},\"geo\":{\"bgcolor\":\"white\",\"landcolor\":\"#E5ECF6\",\"subunitcolor\":\"white\",\"showland\":true,\"showlakes\":true,\"lakecolor\":\"white\"},\"title\":{\"x\":0.05},\"mapbox\":{\"style\":\"light\"}}},\"xaxis\":{\"anchor\":\"y\",\"domain\":[0.0,1.0],\"title\":{\"text\":\"aroma_mean\"}},\"yaxis\":{\"anchor\":\"x\",\"domain\":[0.0,1.0],\"title\":{\"text\":\"appearance_mean\"}},\"legend\":{\"title\":{\"text\":\"beer_style\"},\"tracegroupgap\":0},\"margin\":{\"t\":60}},                        {\"responsive\": true}                    ).then(function(){\n",
              "                            \n",
              "var gd = document.getElementById('e597e865-6ccf-4b35-9859-130f926a3e6e');\n",
              "var x = new MutationObserver(function (mutations, observer) {{\n",
              "        var display = window.getComputedStyle(gd).display;\n",
              "        if (!display || display === 'none') {{\n",
              "            console.log([gd, 'removed!']);\n",
              "            Plotly.purge(gd);\n",
              "            observer.disconnect();\n",
              "        }}\n",
              "}});\n",
              "\n",
              "// Listen for the removal of the full notebook cells\n",
              "var notebookContainer = gd.closest('#notebook-container');\n",
              "if (notebookContainer) {{\n",
              "    x.observe(notebookContainer, {childList: true});\n",
              "}}\n",
              "\n",
              "// Listen for the clearing of the current output cell\n",
              "var outputEl = gd.closest('.output');\n",
              "if (outputEl) {{\n",
              "    x.observe(outputEl, {childList: true});\n",
              "}}\n",
              "\n",
              "                        })                };                            </script>        </div>\n",
              "</body>\n",
              "</html>"
            ]
          },
          "metadata": {}
        }
      ]
    },
    {
      "cell_type": "markdown",
      "source": [
        "-> Checking which beer of American Double / Imperial Stout style has the highest average rating in review_overall (and has more than 100 reviews):"
      ],
      "metadata": {
        "id": "9rho2DADJDVP"
      }
    },
    {
      "cell_type": "code",
      "source": [
        "df_filtered.query('beer_style==\"American Double / Imperial Stout\"').head(3)"
      ],
      "metadata": {
        "colab": {
          "base_uri": "https://localhost:8080/",
          "height": 206
        },
        "id": "kLHMUGkEIN4J",
        "outputId": "63a21389-ebf6-41fa-8bdb-51046289bca3"
      },
      "execution_count": null,
      "outputs": [
        {
          "output_type": "execute_result",
          "data": {
            "text/plain": [
              "                                                             review_overall  \\\n",
              "                                                                      count   \n",
              "beer_style                       beer_name                                    \n",
              "American Double / Imperial Stout Founders CBS Imperial Stout            637   \n",
              "                                 Rare Bourbon County Stout              249   \n",
              "                                 The Abyss                             1412   \n",
              "\n",
              "                                                                        \n",
              "                                                                  mean  \n",
              "beer_style                       beer_name                              \n",
              "American Double / Imperial Stout Founders CBS Imperial Stout  4.591052  \n",
              "                                 Rare Bourbon County Stout    4.544177  \n",
              "                                 The Abyss                    4.450779  "
            ],
            "text/html": [
              "\n",
              "  <div id=\"df-d9ad5264-4fc0-4a39-955f-132e2b71bc0e\">\n",
              "    <div class=\"colab-df-container\">\n",
              "      <div>\n",
              "<style scoped>\n",
              "    .dataframe tbody tr th:only-of-type {\n",
              "        vertical-align: middle;\n",
              "    }\n",
              "\n",
              "    .dataframe tbody tr th {\n",
              "        vertical-align: top;\n",
              "    }\n",
              "\n",
              "    .dataframe thead tr th {\n",
              "        text-align: left;\n",
              "    }\n",
              "\n",
              "    .dataframe thead tr:last-of-type th {\n",
              "        text-align: right;\n",
              "    }\n",
              "</style>\n",
              "<table border=\"1\" class=\"dataframe\">\n",
              "  <thead>\n",
              "    <tr>\n",
              "      <th></th>\n",
              "      <th></th>\n",
              "      <th colspan=\"2\" halign=\"left\">review_overall</th>\n",
              "    </tr>\n",
              "    <tr>\n",
              "      <th></th>\n",
              "      <th></th>\n",
              "      <th>count</th>\n",
              "      <th>mean</th>\n",
              "    </tr>\n",
              "    <tr>\n",
              "      <th>beer_style</th>\n",
              "      <th>beer_name</th>\n",
              "      <th></th>\n",
              "      <th></th>\n",
              "    </tr>\n",
              "  </thead>\n",
              "  <tbody>\n",
              "    <tr>\n",
              "      <th rowspan=\"3\" valign=\"top\">American Double / Imperial Stout</th>\n",
              "      <th>Founders CBS Imperial Stout</th>\n",
              "      <td>637</td>\n",
              "      <td>4.591052</td>\n",
              "    </tr>\n",
              "    <tr>\n",
              "      <th>Rare Bourbon County Stout</th>\n",
              "      <td>249</td>\n",
              "      <td>4.544177</td>\n",
              "    </tr>\n",
              "    <tr>\n",
              "      <th>The Abyss</th>\n",
              "      <td>1412</td>\n",
              "      <td>4.450779</td>\n",
              "    </tr>\n",
              "  </tbody>\n",
              "</table>\n",
              "</div>\n",
              "      <button class=\"colab-df-convert\" onclick=\"convertToInteractive('df-d9ad5264-4fc0-4a39-955f-132e2b71bc0e')\"\n",
              "              title=\"Convert this dataframe to an interactive table.\"\n",
              "              style=\"display:none;\">\n",
              "        \n",
              "  <svg xmlns=\"http://www.w3.org/2000/svg\" height=\"24px\"viewBox=\"0 0 24 24\"\n",
              "       width=\"24px\">\n",
              "    <path d=\"M0 0h24v24H0V0z\" fill=\"none\"/>\n",
              "    <path d=\"M18.56 5.44l.94 2.06.94-2.06 2.06-.94-2.06-.94-.94-2.06-.94 2.06-2.06.94zm-11 1L8.5 8.5l.94-2.06 2.06-.94-2.06-.94L8.5 2.5l-.94 2.06-2.06.94zm10 10l.94 2.06.94-2.06 2.06-.94-2.06-.94-.94-2.06-.94 2.06-2.06.94z\"/><path d=\"M17.41 7.96l-1.37-1.37c-.4-.4-.92-.59-1.43-.59-.52 0-1.04.2-1.43.59L10.3 9.45l-7.72 7.72c-.78.78-.78 2.05 0 2.83L4 21.41c.39.39.9.59 1.41.59.51 0 1.02-.2 1.41-.59l7.78-7.78 2.81-2.81c.8-.78.8-2.07 0-2.86zM5.41 20L4 18.59l7.72-7.72 1.47 1.35L5.41 20z\"/>\n",
              "  </svg>\n",
              "      </button>\n",
              "      \n",
              "  <style>\n",
              "    .colab-df-container {\n",
              "      display:flex;\n",
              "      flex-wrap:wrap;\n",
              "      gap: 12px;\n",
              "    }\n",
              "\n",
              "    .colab-df-convert {\n",
              "      background-color: #E8F0FE;\n",
              "      border: none;\n",
              "      border-radius: 50%;\n",
              "      cursor: pointer;\n",
              "      display: none;\n",
              "      fill: #1967D2;\n",
              "      height: 32px;\n",
              "      padding: 0 0 0 0;\n",
              "      width: 32px;\n",
              "    }\n",
              "\n",
              "    .colab-df-convert:hover {\n",
              "      background-color: #E2EBFA;\n",
              "      box-shadow: 0px 1px 2px rgba(60, 64, 67, 0.3), 0px 1px 3px 1px rgba(60, 64, 67, 0.15);\n",
              "      fill: #174EA6;\n",
              "    }\n",
              "\n",
              "    [theme=dark] .colab-df-convert {\n",
              "      background-color: #3B4455;\n",
              "      fill: #D2E3FC;\n",
              "    }\n",
              "\n",
              "    [theme=dark] .colab-df-convert:hover {\n",
              "      background-color: #434B5C;\n",
              "      box-shadow: 0px 1px 3px 1px rgba(0, 0, 0, 0.15);\n",
              "      filter: drop-shadow(0px 1px 2px rgba(0, 0, 0, 0.3));\n",
              "      fill: #FFFFFF;\n",
              "    }\n",
              "  </style>\n",
              "\n",
              "      <script>\n",
              "        const buttonEl =\n",
              "          document.querySelector('#df-d9ad5264-4fc0-4a39-955f-132e2b71bc0e button.colab-df-convert');\n",
              "        buttonEl.style.display =\n",
              "          google.colab.kernel.accessAllowed ? 'block' : 'none';\n",
              "\n",
              "        async function convertToInteractive(key) {\n",
              "          const element = document.querySelector('#df-d9ad5264-4fc0-4a39-955f-132e2b71bc0e');\n",
              "          const dataTable =\n",
              "            await google.colab.kernel.invokeFunction('convertToInteractive',\n",
              "                                                     [key], {});\n",
              "          if (!dataTable) return;\n",
              "\n",
              "          const docLinkHtml = 'Like what you see? Visit the ' +\n",
              "            '<a target=\"_blank\" href=https://colab.research.google.com/notebooks/data_table.ipynb>data table notebook</a>'\n",
              "            + ' to learn more about interactive tables.';\n",
              "          element.innerHTML = '';\n",
              "          dataTable['output_type'] = 'display_data';\n",
              "          await google.colab.output.renderOutput(dataTable, element);\n",
              "          const docLink = document.createElement('div');\n",
              "          docLink.innerHTML = docLinkHtml;\n",
              "          element.appendChild(docLink);\n",
              "        }\n",
              "      </script>\n",
              "    </div>\n",
              "  </div>\n",
              "  "
            ]
          },
          "metadata": {},
          "execution_count": 186
        }
      ]
    },
    {
      "cell_type": "markdown",
      "source": [
        "**4) I enjoy a beer which aroma and appearance matches the beer style. What beer should I buy ?**\n",
        "\n",
        "You should buy **Founders CBS Imperial Stout** -> it has the highest average review_overall within the American Double / Imperial Stout style and this style shows the highest average rate on aroma and appearance features."
      ],
      "metadata": {
        "id": "IdQoABBjIfPY"
      }
    }
  ]
}